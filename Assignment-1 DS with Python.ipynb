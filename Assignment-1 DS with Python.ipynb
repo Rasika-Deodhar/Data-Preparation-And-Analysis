{
 "cells": [
  {
   "cell_type": "markdown",
   "metadata": {},
   "source": [
    "### Importing Libraries"
   ]
  },
  {
   "cell_type": "code",
   "execution_count": 1,
   "metadata": {},
   "outputs": [],
   "source": [
    "from nltk.corpus import wordnet as wn\n",
    "import http.client\n",
    "import json\n",
    "import pandas as pd\n",
    "import seaborn as sns\n",
    "from matplotlib import pyplot as plt\n",
    "import numpy as np\n",
    "from sklearn import preprocessing\n",
    "\n",
    "import warnings\n",
    "warnings.filterwarnings('ignore')"
   ]
  },
  {
   "cell_type": "markdown",
   "metadata": {},
   "source": [
    "### Task 1 : Data Identification : Identify one or more suitable web APIs¶\n",
    "\n",
    "The API chosen for this assignment is <b>Food Calorie Data Search</b>. The API is available freely over Rapid API website. Therefore, we can easily download calorie data for a food item one at a time. The link to access the dataset is: https://rapidapi.com/kenpi04/api/food-calorie-data-search/endpoints <br> We need to login at Rapid API website which can give us api-key to play around the editor with API end-points.\n",
    "\n",
    "### Task 2 : Data Collection : Calling API and getting data for selective fruits\n",
    "\n",
    "The API can get the data for each food item one at a time. Therefore, we need to call the values for one food item at a time. I chose to get the data of <u>fruits</u>. <br>\n",
    "For this I used a Fruit corpus available over <u>nltk.corpus wordnet</u>. From that corpus, I manually chose 12 different fruits and then made analysis over those values. <br>\n",
    "The data returned is of a particular food item contained in a group of meals. 10 records are returned per api call."
   ]
  },
  {
   "cell_type": "markdown",
   "metadata": {},
   "source": [
    "#### Taking Fruit data from corpus"
   ]
  },
  {
   "cell_type": "code",
   "execution_count": 2,
   "metadata": {},
   "outputs": [
    {
     "name": "stdout",
     "output_type": "stream",
     "text": [
      "['ketembilla', 'genip', 'schizocarp', 'marasca', 'honeydew melon', 'saskatoon', 'hog plum', 'May apple', 'quantong', 'sweet calabash', 'chincapin', 'acinus', 'citrus fruit', 'cherimolla', 'dewberry', 'groundnut', 'mammee apple', 'coquilla nut', 'morello', 'beach plum', 'legume', 'Winesap', 'marmalade plum', 'mango', 'netted melon', 'kola nut', 'palm nut', 'Stayman Winesap', 'avocado', 'caryopsis', 'chokecherry', 'seckel', 'sapodilla plum', 'jack', 'grain', 'cobnut', 'pond apple', 'currant', 'sour cherry', 'key lime', 'coffee', 'cumin seed', 'Pippin', 'bosc', 'shaddock', 'seckel pear', 'Seville orange', 'mangosteen', 'sunflower seed', 'gooseberry', 'algarobilla', 'hickory nut', 'vinifera grape', 'castor bean', 'cowpea', 'flame tokay', 'sweetsop', 'star fruit', 'kai apple', 'dika nut', 'Mexican black cherry', 'alligator pear', 'boysenberry', 'pineapple guava', 'jujube', 'Baldwin', 'safflower seed', 'Chinese gooseberry', 'cashew nut', 'wintergreen', 'edible seed', 'casaba', 'grapefruit', 'pseudocarp', 'linseed', 'rose hip', 'sapodilla', 'berry', 'pomelo', 'bunya bunya', 'cranberry', 'aguacate', 'drupelet', 'coffee bean', 'ceriman', 'tonka bean', 'buckthorn berry', 'pea', 'scuppernong', 'date', 'West Indian cherry', 'Northern Spy', 'crabapple', 'aggregate fruit', 'rambutan', 'souari nut', 'durian', 'black cherry', 'cantaloup', 'ear', 'lychee', 'persimmon', 'cumin', 'anchovy pear', 'flaxseed', 'quince', 'blueberry', 'simple fruit', 'strawberry', 'sapota', 'mombin', 'nicker seed', 'barbados cherry', 'kiwi fruit', 'teaberry', 'sultana', 'lansat', 'syconium', 'goober', 'longanberry', 'calabar bean', 'soy', 'litchee', 'almond', 'tangerine', 'jackfruit', 'eggfruit', 'sugarberry', 'granadilla', 'emperor', 'papaw', 'rambotan', 'red currant', 'kumquat', 'soybean', 'Newtown Wonder', 'green olive', 'yellow berry', 'pulasan', 'cob', 'rosehip', 'oil-rich seed', 'freestone', 'litchi', 'corn', 'slipskin grape', 'eating apple', 'cling', 'algarrobilla', 'tangelo', 'coffee berry', 'native peach', 'blackberry', 'cashew', 'beechnut', 'citron', 'avocado pear', 'conker', 'seeded raisin', 'blue fig', 'Tokay', 'breadfruit', 'palm kernel', 'black-eyed pea', 'raspberry', 'damson', 'lichi', 'sorb apple', 'key', 'pumpkin seed', 'Macoun', 'cohune nut', 'genipap fruit', 'ash-key', 'cocoa plum', 'citrus', 'melon ball', 'mammee', 'mountain cranberry', 'capitulum', 'shadberry', 'clingstone', 'blade apple', 'lingonberry', 'hazelnut', 'damson plum', 'garbanzo', 'areca nut', 'false fruit', 'greengage plum', 'McIntosh', 'leechee', 'muscat grape', 'tamarindo', 'syncarp', 'Barbados gooseberry', 'vegetable ivory', 'edible fruit', 'net melon', 'stone fruit', 'grugru nut', 'banana', 'wheat berry', 'fox grape', 'loganberry', 'raisin', 'coumara nut', 'river pear', 'bacca', 'cowage', 'lanset', 'peanut', 'bell apple', 'medlar', 'passion fruit', 'Jonathan', 'acerola', 'mast', 'amaranth', 'nutlet', 'macadamia nut', 'sweet melon', 'mandarin orange', 'canistel', 'neem seed', 'casaba melon', 'loment', 'black currant', 'pistachio', 'Stayman', 'bilberry', 'chinkapin', 'Thompson Seedless', 'grape', 'fruitlet', 'divi-divi', 'black olive', 'pip', 'cottonseed', 'filbert', 'wild cherry', 'bartlett', 'barleycorn', 'horse chestnut', 'juneberry', 'pear', 'orange', 'fava bean', 'guava', 'Granny Smith', 'crab apple', 'Victoria plum', 'samara', 'prune', 'multiple fruit', 'yellow mombin', 'brazil', 'Valencia orange', 'carambola', 'oil nut', 'temple orange', 'clementine', 'ivory nut', 'achene', 'garambulla', 'water lemon', 'pinon nut', 'soya bean', 'Red Delicious', 'guanabana', 'prickly pear', 'rye', 'ilama', 'cowberry', 'sweet cup', 'elk nut', 'amarelle', 'capulin', 'English walnut', 'hip', 'prairie gourd', 'ribier', 'cherimoya', 'watermelon', 'bonduc nut', 'chestnut', 'ordeal bean', 'walnut', 'cocoanut', 'Spanish lime', 'ugli fruit', 'papaya', 'melon', 'sugar apple', 'carissa plum', 'surinam cherry', 'cubeb', 'sour orange', 'pignolia', 'citrange', 'field pea', 'hackberry', 'akee', 'jaboticaba', 'pomegranate', 'Cortland', 'candlenut', 'genipap', 'Concord grape', 'apple', 'monkey bread', 'cedar nut', 'mamey', 'windfall', 'Jaffa orange', 'locust pod', 'pitahaya', 'dried fruit', 'gourd', 'lansa', 'honeydew', 'Chinese date', 'goober pea', 'pawpaw', 'pecan', 'Yellow Delicious', 'monkey nut', 'quandang', 'Mexican jumping bean', 'betel nut', 'seedless raisin', 'lemon', 'Pearmain', 'bean', 'muscatel', 'jumping seed', 'cherry', 'icaco', 'checkerberry', 'algarroba bean', 'satsuma', 'key fruit', 'kitambilla', 'heart cherry', 'spiceberry', 'muscadine', 'Catawba', 'Prima', 'butternut', 'apricot', 'buffalo nut', 'locust bean', 'carob', 'apple nut', 'yellow granadilla', 'nut', 'coconut', 'mandarin', 'accessory fruit', 'mulberry', 'sorb', 'cola nut', 'boxberry', 'kiwi', 'oxheart', 'ananas', 'bing cherry', 'navel orange', 'custard apple', 'lime', 'buckeye', 'sweet orange', 'feijoa', 'serviceberry', 'ripe olive', 'anjou', 'chickpea', 'muscat', 'pistachio nut', 'jak', 'acorn', 'Japanese plum', 'brazil nut', 'marang', 'Rome Beauty', 'rose apple', 'mealie', 'nicker nut', 'pyrene', 'kitembilla', 'bullace grape', 'lichee', 'huckleberry', 'carob bean', 'plum', 'fig', 'earthnut', 'seedpod', 'litchi nut', 'whortleberry', 'quandong nut', 'blackheart cherry', 'calabash', 'quandong', 'pod', 'juniper berry', 'pyxis', 'winter melon', 'loquat', 'seed', 'Golden Delicious', 'pome', 'ackee', 'ugli', 'broad bean', 'nutmeg melon', 'jumping bean', 'screw bean', 'lowbush cranberry', 'water chinquapin', 'sweet cherry', 'baneberry', 'soursop', 'oilseed', 'lentil', 'monstera', 'lanseh', 'plumcot', 'rowanberry', 'nectarine', 'pyxidium', 'bitter orange', 'hagberry', 'peach', 'babassu nut', 'edible nut', 'Persian melon', 'Empire', 'muskmelon', 'European blueberry', 'rapeseed', 'horsebean', 'black walnut', 'wild plum', 'drupe', 'Delicious', 'bartlett pear', 'kernel', 'olive', 'coco plum', 'blackheart', 'pine nut', 'sloe', 'sapote', 'dessert apple', 'dried apricot', 'cembra nut', 'natal plum', 'annon', 'citrous fruit', 'elderberry', 'spike', 'cooking apple', 'Jamaica apple', 'tamarind', 'pulassan', 'okra', 'greengage', 'garden pea', 'oxheart cherry', 'pineapple', 'Jordan almond', 'algarroba', 'Chinese jujube', 'chinquapin', 'sour gourd', 'cantaloupe']\n"
     ]
    }
   ],
   "source": [
    "# extracting fruit data from wordnet synset data\n",
    "fruits = wn.synset('fruit.n.01')\n",
    "# getting list of fruits from lemma\n",
    "fruit_data = list(set([w for s in fruits.closure(lambda s:s.hyponyms()) for w in s.lemma_names()]))\n",
    "\n",
    "# for each record in the list remove special characters like ' and _ to get only words\n",
    "for i in fruit_data:\n",
    "    if \"'\" in i:\n",
    "        fruit_data.remove(i)\n",
    "    if '_' in i:\n",
    "        i = i.replace('_',' ')\n",
    "\n",
    "#replace _ and ' with blank\n",
    "fruit_data = [i.replace('_',' ') for i in fruit_data]\n",
    "fruit_data = [i.replace(\"'\",' ') for i in fruit_data]\n",
    "\n",
    "# printing the fruit words\n",
    "print(fruit_data)"
   ]
  },
  {
   "cell_type": "markdown",
   "metadata": {},
   "source": [
    "###### Note: Run entire notebook in one go if you face error like below:\n",
    "<b> TypeError: 'list' object is not callable </b>"
   ]
  },
  {
   "cell_type": "markdown",
   "metadata": {},
   "source": [
    "### Connecting to API and getting data for selective fruits"
   ]
  },
  {
   "cell_type": "code",
   "execution_count": 3,
   "metadata": {},
   "outputs": [],
   "source": [
    "# making connection request to the domain\n",
    "conn = http.client.HTTPSConnection(\"food-calorie-data-search.p.rapidapi.com\")\n",
    "\n",
    "#setting headers with host and key values - provided after logging in rapidapi\n",
    "headers = {\n",
    "    'x-rapidapi-host': \"food-calorie-data-search.p.rapidapi.com\",\n",
    "    'x-rapidapi-key': \"5bf192c5cemsh6925a9e00884d04p102f48jsn05bc359e0d8f\"\n",
    "    }\n",
    "\n",
    "#list to store results\n",
    "results=[]\n",
    "\n",
    "#list of selective fruits chosen from the Fruit corpus above\n",
    "list=['hazelnut','cherry','muskmelon','bean','raspberry','chickpea','coffee bean','litchi','peach','butternut','olive','pear','strawberry',\\\n",
    "      'sweet melon','melon']\n",
    "\n",
    "#iterate through each word and call the food-calorie api for each \n",
    "for str_ in list:\n",
    "    #calling the api with each fruit value one by one\n",
    "    conn.request(\"GET\", \"/api/search?keyword=\"+str_, headers=headers)\n",
    "    res = conn.getresponse()\n",
    "    #reading data from the response\n",
    "    data = res.read()\n",
    "    data = data.decode(\"utf-8\")\n",
    "    #removing all special characters and empty data and storing in json format\n",
    "    if data not in '' and data not in '[]':\n",
    "        data = json.loads(data)\n",
    "        for i in data:\n",
    "            i['fruit_name']=str_\n",
    "        results.append(data)"
   ]
  },
  {
   "cell_type": "markdown",
   "metadata": {},
   "source": [
    "### Making list of Dataframes\n",
    "\n",
    "The data we have now is in form of List of JSON objects, we need to convert each JSON object to dataframe. Thus, finally we get <u>List of Dataframes.</u>"
   ]
  },
  {
   "cell_type": "code",
   "execution_count": 4,
   "metadata": {},
   "outputs": [],
   "source": [
    "df = pd.DataFrame()\n",
    "\n",
    "list_of_df=[]\n",
    "\n",
    "#for each JSON object, convert to data frame and store in list_of_df list\n",
    "for i in results:\n",
    "    df = pd.DataFrame(i)\n",
    "    list_of_df.append(df)"
   ]
  },
  {
   "cell_type": "markdown",
   "metadata": {},
   "source": [
    "### Saving Data in CSV file"
   ]
  },
  {
   "cell_type": "code",
   "execution_count": 5,
   "metadata": {},
   "outputs": [],
   "source": [
    "csv_data = pd.DataFrame()\n",
    "\n",
    "#for each data frame in list, store in a common data frame, then store this file to csv\n",
    "for i in list_of_df:\n",
    "    csv_data = csv_data.append(i, ignore_index=True)\n",
    "\n",
    "csv_data.to_csv('fruits_data.csv')"
   ]
  },
  {
   "cell_type": "markdown",
   "metadata": {},
   "source": [
    "### Task 3 : Data preparation and analysis:\n",
    "\n",
    "#### Pre-processing Data"
   ]
  },
  {
   "cell_type": "markdown",
   "metadata": {},
   "source": [
    "We would have a list of dataframes where each dataframe looks like the following:"
   ]
  },
  {
   "cell_type": "code",
   "execution_count": 6,
   "metadata": {},
   "outputs": [
    {
     "data": {
      "text/html": [
       "<div>\n",
       "<style scoped>\n",
       "    .dataframe tbody tr th:only-of-type {\n",
       "        vertical-align: middle;\n",
       "    }\n",
       "\n",
       "    .dataframe tbody tr th {\n",
       "        vertical-align: top;\n",
       "    }\n",
       "\n",
       "    .dataframe thead th {\n",
       "        text-align: right;\n",
       "    }\n",
       "</style>\n",
       "<table border=\"1\" class=\"dataframe\">\n",
       "  <thead>\n",
       "    <tr style=\"text-align: right;\">\n",
       "      <th></th>\n",
       "      <th>id</th>\n",
       "      <th>ndb_no</th>\n",
       "      <th>shrt_desc</th>\n",
       "      <th>water</th>\n",
       "      <th>energ_kcal</th>\n",
       "      <th>protein</th>\n",
       "      <th>lipid_tot</th>\n",
       "      <th>ash</th>\n",
       "      <th>carbohydrt</th>\n",
       "      <th>fiber_td</th>\n",
       "      <th>...</th>\n",
       "      <th>fa_sat</th>\n",
       "      <th>fa_mono</th>\n",
       "      <th>fa_poly</th>\n",
       "      <th>cholestrl</th>\n",
       "      <th>gmwt_1</th>\n",
       "      <th>gmwt_desc1</th>\n",
       "      <th>gmwt_2</th>\n",
       "      <th>gmwt_desc2</th>\n",
       "      <th>refuse_pct</th>\n",
       "      <th>fruit_name</th>\n",
       "    </tr>\n",
       "  </thead>\n",
       "  <tbody>\n",
       "    <tr>\n",
       "      <td>0</td>\n",
       "      <td>1353</td>\n",
       "      <td>4532</td>\n",
       "      <td>OIL,HAZELNUT</td>\n",
       "      <td>0.00</td>\n",
       "      <td>884</td>\n",
       "      <td>0.00</td>\n",
       "      <td>100.00</td>\n",
       "      <td>0.00</td>\n",
       "      <td>0.00</td>\n",
       "      <td>0.0</td>\n",
       "      <td>...</td>\n",
       "      <td>7.400</td>\n",
       "      <td>78.000</td>\n",
       "      <td>10.200</td>\n",
       "      <td>0</td>\n",
       "      <td>13.60</td>\n",
       "      <td>1 tablespoon</td>\n",
       "      <td>218.00</td>\n",
       "      <td>1 cup</td>\n",
       "      <td>0</td>\n",
       "      <td>hazelnut</td>\n",
       "    </tr>\n",
       "    <tr>\n",
       "      <td>1</td>\n",
       "      <td>2527</td>\n",
       "      <td>8689</td>\n",
       "      <td>CEREALS,QUAKER,OATMEAL,REAL MEDLEYS,BLUEBERRY ...</td>\n",
       "      <td>7.47</td>\n",
       "      <td>386</td>\n",
       "      <td>9.81</td>\n",
       "      <td>9.80</td>\n",
       "      <td>3.46</td>\n",
       "      <td>69.47</td>\n",
       "      <td>7.7</td>\n",
       "      <td>...</td>\n",
       "      <td>1.648</td>\n",
       "      <td>3.742</td>\n",
       "      <td>2.863</td>\n",
       "      <td>1</td>\n",
       "      <td>70.00</td>\n",
       "      <td>1 package,  (1 NLEA serving)</td>\n",
       "      <td>0.00</td>\n",
       "      <td></td>\n",
       "      <td>0</td>\n",
       "      <td>hazelnut</td>\n",
       "    </tr>\n",
       "    <tr>\n",
       "      <td>2</td>\n",
       "      <td>2995</td>\n",
       "      <td>19125</td>\n",
       "      <td>CHOCOLATE-FLAVORED HAZELNUT SPRD</td>\n",
       "      <td>1.07</td>\n",
       "      <td>541</td>\n",
       "      <td>5.41</td>\n",
       "      <td>29.73</td>\n",
       "      <td>1.44</td>\n",
       "      <td>62.16</td>\n",
       "      <td>5.4</td>\n",
       "      <td>...</td>\n",
       "      <td>28.423</td>\n",
       "      <td>0.000</td>\n",
       "      <td>0.000</td>\n",
       "      <td>0</td>\n",
       "      <td>37.00</td>\n",
       "      <td>1 serving, 2 TBSP</td>\n",
       "      <td>0.00</td>\n",
       "      <td></td>\n",
       "      <td>0</td>\n",
       "      <td>hazelnut</td>\n",
       "    </tr>\n",
       "    <tr>\n",
       "      <td>3</td>\n",
       "      <td>5105</td>\n",
       "      <td>35233</td>\n",
       "      <td>HAZELNUTS,BEAKED (NORTHERN PLAINS INDIANS)</td>\n",
       "      <td>5.92</td>\n",
       "      <td>628</td>\n",
       "      <td>14.89</td>\n",
       "      <td>52.99</td>\n",
       "      <td>3.22</td>\n",
       "      <td>22.98</td>\n",
       "      <td>9.8</td>\n",
       "      <td>...</td>\n",
       "      <td>0.000</td>\n",
       "      <td>0.000</td>\n",
       "      <td>0.000</td>\n",
       "      <td>0</td>\n",
       "      <td>0.40</td>\n",
       "      <td>1 nut</td>\n",
       "      <td>28.35</td>\n",
       "      <td>1 oz</td>\n",
       "      <td>0</td>\n",
       "      <td>hazelnut</td>\n",
       "    </tr>\n",
       "    <tr>\n",
       "      <td>4</td>\n",
       "      <td>6486</td>\n",
       "      <td>12120</td>\n",
       "      <td>HAZELNUTS OR FILBERTS</td>\n",
       "      <td>5.31</td>\n",
       "      <td>628</td>\n",
       "      <td>14.95</td>\n",
       "      <td>60.75</td>\n",
       "      <td>2.29</td>\n",
       "      <td>16.70</td>\n",
       "      <td>9.7</td>\n",
       "      <td>...</td>\n",
       "      <td>4.464</td>\n",
       "      <td>45.652</td>\n",
       "      <td>7.920</td>\n",
       "      <td>0</td>\n",
       "      <td>115.00</td>\n",
       "      <td>1 cup, chopped</td>\n",
       "      <td>75.00</td>\n",
       "      <td>1 cup, ground</td>\n",
       "      <td>59</td>\n",
       "      <td>hazelnut</td>\n",
       "    </tr>\n",
       "    <tr>\n",
       "      <td>5</td>\n",
       "      <td>6487</td>\n",
       "      <td>12121</td>\n",
       "      <td>HAZELNUTS OR FILBERTS,BLANCHED</td>\n",
       "      <td>5.79</td>\n",
       "      <td>629</td>\n",
       "      <td>13.70</td>\n",
       "      <td>61.15</td>\n",
       "      <td>2.36</td>\n",
       "      <td>17.00</td>\n",
       "      <td>11.0</td>\n",
       "      <td>...</td>\n",
       "      <td>4.669</td>\n",
       "      <td>48.192</td>\n",
       "      <td>5.558</td>\n",
       "      <td>0</td>\n",
       "      <td>28.35</td>\n",
       "      <td>1 oz</td>\n",
       "      <td>0.00</td>\n",
       "      <td></td>\n",
       "      <td>0</td>\n",
       "      <td>hazelnut</td>\n",
       "    </tr>\n",
       "    <tr>\n",
       "      <td>6</td>\n",
       "      <td>6488</td>\n",
       "      <td>12122</td>\n",
       "      <td>HAZELNUTS OR FILBERTS,DRY RSTD,WO/SALT</td>\n",
       "      <td>2.52</td>\n",
       "      <td>646</td>\n",
       "      <td>15.03</td>\n",
       "      <td>62.40</td>\n",
       "      <td>2.45</td>\n",
       "      <td>17.60</td>\n",
       "      <td>9.4</td>\n",
       "      <td>...</td>\n",
       "      <td>4.511</td>\n",
       "      <td>46.608</td>\n",
       "      <td>8.463</td>\n",
       "      <td>0</td>\n",
       "      <td>28.35</td>\n",
       "      <td>1 oz</td>\n",
       "      <td>0.00</td>\n",
       "      <td></td>\n",
       "      <td>0</td>\n",
       "      <td>hazelnut</td>\n",
       "    </tr>\n",
       "    <tr>\n",
       "      <td>7</td>\n",
       "      <td>8248</td>\n",
       "      <td>16262</td>\n",
       "      <td>SILK HAZELNUT CREAMER</td>\n",
       "      <td>72.95</td>\n",
       "      <td>133</td>\n",
       "      <td>0.00</td>\n",
       "      <td>6.67</td>\n",
       "      <td>0.38</td>\n",
       "      <td>20.00</td>\n",
       "      <td>0.0</td>\n",
       "      <td>...</td>\n",
       "      <td>0.000</td>\n",
       "      <td>0.000</td>\n",
       "      <td>0.000</td>\n",
       "      <td>0</td>\n",
       "      <td>15.00</td>\n",
       "      <td>1 tbsp</td>\n",
       "      <td>0.00</td>\n",
       "      <td></td>\n",
       "      <td>0</td>\n",
       "      <td>hazelnut</td>\n",
       "    </tr>\n",
       "  </tbody>\n",
       "</table>\n",
       "<p>8 rows × 55 columns</p>\n",
       "</div>"
      ],
      "text/plain": [
       "     id  ndb_no                                          shrt_desc  water  \\\n",
       "0  1353    4532                                       OIL,HAZELNUT   0.00   \n",
       "1  2527    8689  CEREALS,QUAKER,OATMEAL,REAL MEDLEYS,BLUEBERRY ...   7.47   \n",
       "2  2995   19125                   CHOCOLATE-FLAVORED HAZELNUT SPRD   1.07   \n",
       "3  5105   35233         HAZELNUTS,BEAKED (NORTHERN PLAINS INDIANS)   5.92   \n",
       "4  6486   12120                              HAZELNUTS OR FILBERTS   5.31   \n",
       "5  6487   12121                     HAZELNUTS OR FILBERTS,BLANCHED   5.79   \n",
       "6  6488   12122             HAZELNUTS OR FILBERTS,DRY RSTD,WO/SALT   2.52   \n",
       "7  8248   16262                              SILK HAZELNUT CREAMER  72.95   \n",
       "\n",
       "   energ_kcal  protein  lipid_tot   ash  carbohydrt  fiber_td  ...  fa_sat  \\\n",
       "0         884     0.00     100.00  0.00        0.00       0.0  ...   7.400   \n",
       "1         386     9.81       9.80  3.46       69.47       7.7  ...   1.648   \n",
       "2         541     5.41      29.73  1.44       62.16       5.4  ...  28.423   \n",
       "3         628    14.89      52.99  3.22       22.98       9.8  ...   0.000   \n",
       "4         628    14.95      60.75  2.29       16.70       9.7  ...   4.464   \n",
       "5         629    13.70      61.15  2.36       17.00      11.0  ...   4.669   \n",
       "6         646    15.03      62.40  2.45       17.60       9.4  ...   4.511   \n",
       "7         133     0.00       6.67  0.38       20.00       0.0  ...   0.000   \n",
       "\n",
       "   fa_mono  fa_poly  cholestrl  gmwt_1                    gmwt_desc1  gmwt_2  \\\n",
       "0   78.000   10.200          0   13.60                  1 tablespoon  218.00   \n",
       "1    3.742    2.863          1   70.00  1 package,  (1 NLEA serving)    0.00   \n",
       "2    0.000    0.000          0   37.00             1 serving, 2 TBSP    0.00   \n",
       "3    0.000    0.000          0    0.40                         1 nut   28.35   \n",
       "4   45.652    7.920          0  115.00                1 cup, chopped   75.00   \n",
       "5   48.192    5.558          0   28.35                          1 oz    0.00   \n",
       "6   46.608    8.463          0   28.35                          1 oz    0.00   \n",
       "7    0.000    0.000          0   15.00                        1 tbsp    0.00   \n",
       "\n",
       "      gmwt_desc2  refuse_pct  fruit_name  \n",
       "0          1 cup           0    hazelnut  \n",
       "1                          0    hazelnut  \n",
       "2                          0    hazelnut  \n",
       "3           1 oz           0    hazelnut  \n",
       "4  1 cup, ground          59    hazelnut  \n",
       "5                          0    hazelnut  \n",
       "6                          0    hazelnut  \n",
       "7                          0    hazelnut  \n",
       "\n",
       "[8 rows x 55 columns]"
      ]
     },
     "execution_count": 6,
     "metadata": {},
     "output_type": "execute_result"
    }
   ],
   "source": [
    "list_of_df[0]"
   ]
  },
  {
   "cell_type": "markdown",
   "metadata": {},
   "source": [
    "#### Extracting specific columns from the dataset\n",
    "\n",
    "The data we currently recieved have many <u>irrelevant and unneccessay</u> fields like - <u>id, ndb_no, short description, gram weight etc.</u> Those are difficult to understand, therefore, we would consider only specific fields which we can analyze and draw patterns from."
   ]
  },
  {
   "cell_type": "code",
   "execution_count": 7,
   "metadata": {},
   "outputs": [],
   "source": [
    "# considered only the fields which makes sense and are important for us\n",
    "for i in range(len(list_of_df)):\n",
    "    fruit = list_of_df[i]\n",
    "    list_of_df[i] = fruit[[\"fruit_name\",\"calcium\",\"carbohydrt\",\"copper\",\"energ_kcal\",\"iron\",\"magnesium\",\"manganese\",\"phosphorus\",\\\n",
    "                \"protein\",\"selenium\",\"sodium\",\"vit_b12\",\"vit_b6\",\"vit_c\",\"vit_e\",\"vit_k\",\"water\",\"zinc\"]]\n"
   ]
  },
  {
   "cell_type": "markdown",
   "metadata": {},
   "source": [
    "Now, we have a list of dataframes like the following:"
   ]
  },
  {
   "cell_type": "code",
   "execution_count": 8,
   "metadata": {},
   "outputs": [
    {
     "data": {
      "text/html": [
       "<div>\n",
       "<style scoped>\n",
       "    .dataframe tbody tr th:only-of-type {\n",
       "        vertical-align: middle;\n",
       "    }\n",
       "\n",
       "    .dataframe tbody tr th {\n",
       "        vertical-align: top;\n",
       "    }\n",
       "\n",
       "    .dataframe thead th {\n",
       "        text-align: right;\n",
       "    }\n",
       "</style>\n",
       "<table border=\"1\" class=\"dataframe\">\n",
       "  <thead>\n",
       "    <tr style=\"text-align: right;\">\n",
       "      <th></th>\n",
       "      <th>fruit_name</th>\n",
       "      <th>calcium</th>\n",
       "      <th>carbohydrt</th>\n",
       "      <th>copper</th>\n",
       "      <th>energ_kcal</th>\n",
       "      <th>iron</th>\n",
       "      <th>magnesium</th>\n",
       "      <th>manganese</th>\n",
       "      <th>phosphorus</th>\n",
       "      <th>protein</th>\n",
       "      <th>selenium</th>\n",
       "      <th>sodium</th>\n",
       "      <th>vit_b12</th>\n",
       "      <th>vit_b6</th>\n",
       "      <th>vit_c</th>\n",
       "      <th>vit_e</th>\n",
       "      <th>vit_k</th>\n",
       "      <th>water</th>\n",
       "      <th>zinc</th>\n",
       "    </tr>\n",
       "  </thead>\n",
       "  <tbody>\n",
       "    <tr>\n",
       "      <td>0</td>\n",
       "      <td>hazelnut</td>\n",
       "      <td>0</td>\n",
       "      <td>0.00</td>\n",
       "      <td>0.000</td>\n",
       "      <td>884</td>\n",
       "      <td>0.00</td>\n",
       "      <td>0</td>\n",
       "      <td>0.000</td>\n",
       "      <td>0</td>\n",
       "      <td>0.00</td>\n",
       "      <td>0.0</td>\n",
       "      <td>0</td>\n",
       "      <td>0.00</td>\n",
       "      <td>0.000</td>\n",
       "      <td>0.0</td>\n",
       "      <td>47.20</td>\n",
       "      <td>0.0</td>\n",
       "      <td>0.00</td>\n",
       "      <td>0.00</td>\n",
       "    </tr>\n",
       "    <tr>\n",
       "      <td>1</td>\n",
       "      <td>hazelnut</td>\n",
       "      <td>64</td>\n",
       "      <td>69.47</td>\n",
       "      <td>0.000</td>\n",
       "      <td>386</td>\n",
       "      <td>3.08</td>\n",
       "      <td>98</td>\n",
       "      <td>0.000</td>\n",
       "      <td>287</td>\n",
       "      <td>9.81</td>\n",
       "      <td>0.0</td>\n",
       "      <td>337</td>\n",
       "      <td>0.00</td>\n",
       "      <td>0.127</td>\n",
       "      <td>2.8</td>\n",
       "      <td>0.45</td>\n",
       "      <td>0.0</td>\n",
       "      <td>7.47</td>\n",
       "      <td>2.15</td>\n",
       "    </tr>\n",
       "    <tr>\n",
       "      <td>2</td>\n",
       "      <td>hazelnut</td>\n",
       "      <td>108</td>\n",
       "      <td>62.16</td>\n",
       "      <td>0.469</td>\n",
       "      <td>541</td>\n",
       "      <td>4.38</td>\n",
       "      <td>64</td>\n",
       "      <td>0.868</td>\n",
       "      <td>152</td>\n",
       "      <td>5.41</td>\n",
       "      <td>3.6</td>\n",
       "      <td>41</td>\n",
       "      <td>0.27</td>\n",
       "      <td>0.082</td>\n",
       "      <td>0.0</td>\n",
       "      <td>4.96</td>\n",
       "      <td>1.9</td>\n",
       "      <td>1.07</td>\n",
       "      <td>1.06</td>\n",
       "    </tr>\n",
       "    <tr>\n",
       "      <td>3</td>\n",
       "      <td>hazelnut</td>\n",
       "      <td>441</td>\n",
       "      <td>22.98</td>\n",
       "      <td>1.200</td>\n",
       "      <td>628</td>\n",
       "      <td>3.12</td>\n",
       "      <td>235</td>\n",
       "      <td>7.600</td>\n",
       "      <td>411</td>\n",
       "      <td>14.89</td>\n",
       "      <td>0.0</td>\n",
       "      <td>2</td>\n",
       "      <td>0.00</td>\n",
       "      <td>0.550</td>\n",
       "      <td>0.0</td>\n",
       "      <td>0.00</td>\n",
       "      <td>0.0</td>\n",
       "      <td>5.92</td>\n",
       "      <td>2.06</td>\n",
       "    </tr>\n",
       "    <tr>\n",
       "      <td>4</td>\n",
       "      <td>hazelnut</td>\n",
       "      <td>114</td>\n",
       "      <td>16.70</td>\n",
       "      <td>1.725</td>\n",
       "      <td>628</td>\n",
       "      <td>4.70</td>\n",
       "      <td>163</td>\n",
       "      <td>6.175</td>\n",
       "      <td>290</td>\n",
       "      <td>14.95</td>\n",
       "      <td>2.4</td>\n",
       "      <td>0</td>\n",
       "      <td>0.00</td>\n",
       "      <td>0.563</td>\n",
       "      <td>6.3</td>\n",
       "      <td>15.03</td>\n",
       "      <td>14.2</td>\n",
       "      <td>5.31</td>\n",
       "      <td>2.45</td>\n",
       "    </tr>\n",
       "    <tr>\n",
       "      <td>5</td>\n",
       "      <td>hazelnut</td>\n",
       "      <td>149</td>\n",
       "      <td>17.00</td>\n",
       "      <td>1.600</td>\n",
       "      <td>629</td>\n",
       "      <td>3.30</td>\n",
       "      <td>160</td>\n",
       "      <td>12.650</td>\n",
       "      <td>310</td>\n",
       "      <td>13.70</td>\n",
       "      <td>4.1</td>\n",
       "      <td>0</td>\n",
       "      <td>0.00</td>\n",
       "      <td>0.585</td>\n",
       "      <td>2.0</td>\n",
       "      <td>17.50</td>\n",
       "      <td>0.0</td>\n",
       "      <td>5.79</td>\n",
       "      <td>2.20</td>\n",
       "    </tr>\n",
       "    <tr>\n",
       "      <td>6</td>\n",
       "      <td>hazelnut</td>\n",
       "      <td>123</td>\n",
       "      <td>17.60</td>\n",
       "      <td>1.750</td>\n",
       "      <td>646</td>\n",
       "      <td>4.38</td>\n",
       "      <td>173</td>\n",
       "      <td>5.550</td>\n",
       "      <td>310</td>\n",
       "      <td>15.03</td>\n",
       "      <td>4.1</td>\n",
       "      <td>0</td>\n",
       "      <td>0.00</td>\n",
       "      <td>0.620</td>\n",
       "      <td>3.8</td>\n",
       "      <td>15.28</td>\n",
       "      <td>0.0</td>\n",
       "      <td>2.52</td>\n",
       "      <td>2.50</td>\n",
       "    </tr>\n",
       "    <tr>\n",
       "      <td>7</td>\n",
       "      <td>hazelnut</td>\n",
       "      <td>0</td>\n",
       "      <td>20.00</td>\n",
       "      <td>0.000</td>\n",
       "      <td>133</td>\n",
       "      <td>0.00</td>\n",
       "      <td>0</td>\n",
       "      <td>0.000</td>\n",
       "      <td>0</td>\n",
       "      <td>0.00</td>\n",
       "      <td>0.0</td>\n",
       "      <td>67</td>\n",
       "      <td>0.00</td>\n",
       "      <td>0.000</td>\n",
       "      <td>200.0</td>\n",
       "      <td>0.00</td>\n",
       "      <td>0.0</td>\n",
       "      <td>72.95</td>\n",
       "      <td>0.00</td>\n",
       "    </tr>\n",
       "  </tbody>\n",
       "</table>\n",
       "</div>"
      ],
      "text/plain": [
       "  fruit_name  calcium  carbohydrt  copper  energ_kcal  iron  magnesium  \\\n",
       "0   hazelnut        0        0.00   0.000         884  0.00          0   \n",
       "1   hazelnut       64       69.47   0.000         386  3.08         98   \n",
       "2   hazelnut      108       62.16   0.469         541  4.38         64   \n",
       "3   hazelnut      441       22.98   1.200         628  3.12        235   \n",
       "4   hazelnut      114       16.70   1.725         628  4.70        163   \n",
       "5   hazelnut      149       17.00   1.600         629  3.30        160   \n",
       "6   hazelnut      123       17.60   1.750         646  4.38        173   \n",
       "7   hazelnut        0       20.00   0.000         133  0.00          0   \n",
       "\n",
       "   manganese  phosphorus  protein  selenium  sodium  vit_b12  vit_b6  vit_c  \\\n",
       "0      0.000           0     0.00       0.0       0     0.00   0.000    0.0   \n",
       "1      0.000         287     9.81       0.0     337     0.00   0.127    2.8   \n",
       "2      0.868         152     5.41       3.6      41     0.27   0.082    0.0   \n",
       "3      7.600         411    14.89       0.0       2     0.00   0.550    0.0   \n",
       "4      6.175         290    14.95       2.4       0     0.00   0.563    6.3   \n",
       "5     12.650         310    13.70       4.1       0     0.00   0.585    2.0   \n",
       "6      5.550         310    15.03       4.1       0     0.00   0.620    3.8   \n",
       "7      0.000           0     0.00       0.0      67     0.00   0.000  200.0   \n",
       "\n",
       "   vit_e  vit_k  water  zinc  \n",
       "0  47.20    0.0   0.00  0.00  \n",
       "1   0.45    0.0   7.47  2.15  \n",
       "2   4.96    1.9   1.07  1.06  \n",
       "3   0.00    0.0   5.92  2.06  \n",
       "4  15.03   14.2   5.31  2.45  \n",
       "5  17.50    0.0   5.79  2.20  \n",
       "6  15.28    0.0   2.52  2.50  \n",
       "7   0.00    0.0  72.95  0.00  "
      ]
     },
     "execution_count": 8,
     "metadata": {},
     "output_type": "execute_result"
    }
   ],
   "source": [
    "list_of_df[0]"
   ]
  },
  {
   "cell_type": "markdown",
   "metadata": {},
   "source": [
    "##### Normalize Data \n",
    "As the values of different fields are in varied range, we need to scale this to match all columns equally. <br>\n",
    "For this I have performed Min Max scaling from Sklearn pre-processing library. <br>\n",
    "All values would be recuded to minimal after performing this step."
   ]
  },
  {
   "cell_type": "code",
   "execution_count": 9,
   "metadata": {},
   "outputs": [
    {
     "data": {
      "text/html": [
       "<div>\n",
       "<style scoped>\n",
       "    .dataframe tbody tr th:only-of-type {\n",
       "        vertical-align: middle;\n",
       "    }\n",
       "\n",
       "    .dataframe tbody tr th {\n",
       "        vertical-align: top;\n",
       "    }\n",
       "\n",
       "    .dataframe thead th {\n",
       "        text-align: right;\n",
       "    }\n",
       "</style>\n",
       "<table border=\"1\" class=\"dataframe\">\n",
       "  <thead>\n",
       "    <tr style=\"text-align: right;\">\n",
       "      <th></th>\n",
       "      <th>fruit_name</th>\n",
       "      <th>calcium</th>\n",
       "      <th>carbohydrt</th>\n",
       "      <th>copper</th>\n",
       "      <th>energ_kcal</th>\n",
       "      <th>iron</th>\n",
       "      <th>magnesium</th>\n",
       "      <th>manganese</th>\n",
       "      <th>phosphorus</th>\n",
       "      <th>protein</th>\n",
       "      <th>selenium</th>\n",
       "      <th>sodium</th>\n",
       "      <th>vit_b12</th>\n",
       "      <th>vit_b6</th>\n",
       "      <th>vit_c</th>\n",
       "      <th>vit_e</th>\n",
       "      <th>vit_k</th>\n",
       "      <th>water</th>\n",
       "      <th>zinc</th>\n",
       "    </tr>\n",
       "  </thead>\n",
       "  <tbody>\n",
       "    <tr>\n",
       "      <td>0</td>\n",
       "      <td>hazelnut</td>\n",
       "      <td>0.000000</td>\n",
       "      <td>0.000000</td>\n",
       "      <td>0.000000</td>\n",
       "      <td>1.000000</td>\n",
       "      <td>0.000000</td>\n",
       "      <td>0.000000</td>\n",
       "      <td>0.000000</td>\n",
       "      <td>0.000000</td>\n",
       "      <td>0.000000</td>\n",
       "      <td>0.000000</td>\n",
       "      <td>0.000000</td>\n",
       "      <td>0.0</td>\n",
       "      <td>0.000000</td>\n",
       "      <td>0.0000</td>\n",
       "      <td>1.000000</td>\n",
       "      <td>0.000000</td>\n",
       "      <td>0.000000</td>\n",
       "      <td>0.000</td>\n",
       "    </tr>\n",
       "    <tr>\n",
       "      <td>1</td>\n",
       "      <td>hazelnut</td>\n",
       "      <td>0.145125</td>\n",
       "      <td>1.000000</td>\n",
       "      <td>0.000000</td>\n",
       "      <td>0.336884</td>\n",
       "      <td>0.655319</td>\n",
       "      <td>0.417021</td>\n",
       "      <td>0.000000</td>\n",
       "      <td>0.698297</td>\n",
       "      <td>0.652695</td>\n",
       "      <td>0.000000</td>\n",
       "      <td>1.000000</td>\n",
       "      <td>0.0</td>\n",
       "      <td>0.204839</td>\n",
       "      <td>0.0140</td>\n",
       "      <td>0.009534</td>\n",
       "      <td>0.000000</td>\n",
       "      <td>0.102399</td>\n",
       "      <td>0.860</td>\n",
       "    </tr>\n",
       "    <tr>\n",
       "      <td>2</td>\n",
       "      <td>hazelnut</td>\n",
       "      <td>0.244898</td>\n",
       "      <td>0.894775</td>\n",
       "      <td>0.268000</td>\n",
       "      <td>0.543276</td>\n",
       "      <td>0.931915</td>\n",
       "      <td>0.272340</td>\n",
       "      <td>0.068617</td>\n",
       "      <td>0.369830</td>\n",
       "      <td>0.359947</td>\n",
       "      <td>0.878049</td>\n",
       "      <td>0.121662</td>\n",
       "      <td>1.0</td>\n",
       "      <td>0.132258</td>\n",
       "      <td>0.0000</td>\n",
       "      <td>0.105085</td>\n",
       "      <td>0.133803</td>\n",
       "      <td>0.014668</td>\n",
       "      <td>0.424</td>\n",
       "    </tr>\n",
       "    <tr>\n",
       "      <td>3</td>\n",
       "      <td>hazelnut</td>\n",
       "      <td>1.000000</td>\n",
       "      <td>0.330790</td>\n",
       "      <td>0.685714</td>\n",
       "      <td>0.659121</td>\n",
       "      <td>0.663830</td>\n",
       "      <td>1.000000</td>\n",
       "      <td>0.600791</td>\n",
       "      <td>1.000000</td>\n",
       "      <td>0.990685</td>\n",
       "      <td>0.000000</td>\n",
       "      <td>0.005935</td>\n",
       "      <td>0.0</td>\n",
       "      <td>0.887097</td>\n",
       "      <td>0.0000</td>\n",
       "      <td>0.000000</td>\n",
       "      <td>0.000000</td>\n",
       "      <td>0.081151</td>\n",
       "      <td>0.824</td>\n",
       "    </tr>\n",
       "    <tr>\n",
       "      <td>4</td>\n",
       "      <td>hazelnut</td>\n",
       "      <td>0.258503</td>\n",
       "      <td>0.240392</td>\n",
       "      <td>0.985714</td>\n",
       "      <td>0.659121</td>\n",
       "      <td>1.000000</td>\n",
       "      <td>0.693617</td>\n",
       "      <td>0.488142</td>\n",
       "      <td>0.705596</td>\n",
       "      <td>0.994677</td>\n",
       "      <td>0.585366</td>\n",
       "      <td>0.000000</td>\n",
       "      <td>0.0</td>\n",
       "      <td>0.908065</td>\n",
       "      <td>0.0315</td>\n",
       "      <td>0.318432</td>\n",
       "      <td>1.000000</td>\n",
       "      <td>0.072790</td>\n",
       "      <td>0.980</td>\n",
       "    </tr>\n",
       "    <tr>\n",
       "      <td>5</td>\n",
       "      <td>hazelnut</td>\n",
       "      <td>0.337868</td>\n",
       "      <td>0.244710</td>\n",
       "      <td>0.914286</td>\n",
       "      <td>0.660453</td>\n",
       "      <td>0.702128</td>\n",
       "      <td>0.680851</td>\n",
       "      <td>1.000000</td>\n",
       "      <td>0.754258</td>\n",
       "      <td>0.911510</td>\n",
       "      <td>1.000000</td>\n",
       "      <td>0.000000</td>\n",
       "      <td>0.0</td>\n",
       "      <td>0.943548</td>\n",
       "      <td>0.0100</td>\n",
       "      <td>0.370763</td>\n",
       "      <td>0.000000</td>\n",
       "      <td>0.079369</td>\n",
       "      <td>0.880</td>\n",
       "    </tr>\n",
       "    <tr>\n",
       "      <td>6</td>\n",
       "      <td>hazelnut</td>\n",
       "      <td>0.278912</td>\n",
       "      <td>0.253347</td>\n",
       "      <td>1.000000</td>\n",
       "      <td>0.683089</td>\n",
       "      <td>0.931915</td>\n",
       "      <td>0.736170</td>\n",
       "      <td>0.438735</td>\n",
       "      <td>0.754258</td>\n",
       "      <td>1.000000</td>\n",
       "      <td>1.000000</td>\n",
       "      <td>0.000000</td>\n",
       "      <td>0.0</td>\n",
       "      <td>1.000000</td>\n",
       "      <td>0.0190</td>\n",
       "      <td>0.323729</td>\n",
       "      <td>0.000000</td>\n",
       "      <td>0.034544</td>\n",
       "      <td>1.000</td>\n",
       "    </tr>\n",
       "    <tr>\n",
       "      <td>7</td>\n",
       "      <td>hazelnut</td>\n",
       "      <td>0.000000</td>\n",
       "      <td>0.287894</td>\n",
       "      <td>0.000000</td>\n",
       "      <td>0.000000</td>\n",
       "      <td>0.000000</td>\n",
       "      <td>0.000000</td>\n",
       "      <td>0.000000</td>\n",
       "      <td>0.000000</td>\n",
       "      <td>0.000000</td>\n",
       "      <td>0.000000</td>\n",
       "      <td>0.198813</td>\n",
       "      <td>0.0</td>\n",
       "      <td>0.000000</td>\n",
       "      <td>1.0000</td>\n",
       "      <td>0.000000</td>\n",
       "      <td>0.000000</td>\n",
       "      <td>1.000000</td>\n",
       "      <td>0.000</td>\n",
       "    </tr>\n",
       "  </tbody>\n",
       "</table>\n",
       "</div>"
      ],
      "text/plain": [
       "  fruit_name   calcium  carbohydrt    copper  energ_kcal      iron  magnesium  \\\n",
       "0   hazelnut  0.000000    0.000000  0.000000    1.000000  0.000000   0.000000   \n",
       "1   hazelnut  0.145125    1.000000  0.000000    0.336884  0.655319   0.417021   \n",
       "2   hazelnut  0.244898    0.894775  0.268000    0.543276  0.931915   0.272340   \n",
       "3   hazelnut  1.000000    0.330790  0.685714    0.659121  0.663830   1.000000   \n",
       "4   hazelnut  0.258503    0.240392  0.985714    0.659121  1.000000   0.693617   \n",
       "5   hazelnut  0.337868    0.244710  0.914286    0.660453  0.702128   0.680851   \n",
       "6   hazelnut  0.278912    0.253347  1.000000    0.683089  0.931915   0.736170   \n",
       "7   hazelnut  0.000000    0.287894  0.000000    0.000000  0.000000   0.000000   \n",
       "\n",
       "   manganese  phosphorus   protein  selenium    sodium  vit_b12    vit_b6  \\\n",
       "0   0.000000    0.000000  0.000000  0.000000  0.000000      0.0  0.000000   \n",
       "1   0.000000    0.698297  0.652695  0.000000  1.000000      0.0  0.204839   \n",
       "2   0.068617    0.369830  0.359947  0.878049  0.121662      1.0  0.132258   \n",
       "3   0.600791    1.000000  0.990685  0.000000  0.005935      0.0  0.887097   \n",
       "4   0.488142    0.705596  0.994677  0.585366  0.000000      0.0  0.908065   \n",
       "5   1.000000    0.754258  0.911510  1.000000  0.000000      0.0  0.943548   \n",
       "6   0.438735    0.754258  1.000000  1.000000  0.000000      0.0  1.000000   \n",
       "7   0.000000    0.000000  0.000000  0.000000  0.198813      0.0  0.000000   \n",
       "\n",
       "    vit_c     vit_e     vit_k     water   zinc  \n",
       "0  0.0000  1.000000  0.000000  0.000000  0.000  \n",
       "1  0.0140  0.009534  0.000000  0.102399  0.860  \n",
       "2  0.0000  0.105085  0.133803  0.014668  0.424  \n",
       "3  0.0000  0.000000  0.000000  0.081151  0.824  \n",
       "4  0.0315  0.318432  1.000000  0.072790  0.980  \n",
       "5  0.0100  0.370763  0.000000  0.079369  0.880  \n",
       "6  0.0190  0.323729  0.000000  0.034544  1.000  \n",
       "7  1.0000  0.000000  0.000000  1.000000  0.000  "
      ]
     },
     "execution_count": 9,
     "metadata": {},
     "output_type": "execute_result"
    }
   ],
   "source": [
    "for fruits in list_of_df: \n",
    "    for k in fruits:\n",
    "        if k not in 'fruit_name':\n",
    "            x = fruits[k].values.astype(float) #returns a numpy array\n",
    "            x = x.reshape(-1, 1)\n",
    "            min_max_scaler = preprocessing.MinMaxScaler()\n",
    "            x_scaled = min_max_scaler.fit_transform(x)\n",
    "            fruits[k] = pd.DataFrame(x_scaled)\n",
    "            \n",
    "list_of_df[0]"
   ]
  },
  {
   "cell_type": "markdown",
   "metadata": {},
   "source": [
    "#### Check if any Missing Data\n",
    "\n",
    "There is no data missing in any of the dataframes."
   ]
  },
  {
   "cell_type": "code",
   "execution_count": 10,
   "metadata": {
    "scrolled": true
   },
   "outputs": [
    {
     "data": {
      "text/plain": [
       "0"
      ]
     },
     "execution_count": 10,
     "metadata": {},
     "output_type": "execute_result"
    }
   ],
   "source": [
    "missing_values=0\n",
    "\n",
    "#for each of the fruit data in list, check if there are any missing values\n",
    "for fruits in list_of_df:\n",
    "    missing_values += fruits.isnull().sum()\n",
    "\n",
    "missing_values.sum()"
   ]
  },
  {
   "cell_type": "code",
   "execution_count": 11,
   "metadata": {},
   "outputs": [
    {
     "data": {
      "text/plain": [
       "float64    216\n",
       "object      12\n",
       "dtype: int64"
      ]
     },
     "execution_count": 11,
     "metadata": {},
     "output_type": "execute_result"
    }
   ],
   "source": [
    "missing_values=0\n",
    "\n",
    "#for each of the fruit data in list, check if there are any NaN values\n",
    "for fruits in list_of_df:\n",
    "    missing_values += fruits.dtypes.value_counts()\n",
    "\n",
    "missing_values"
   ]
  },
  {
   "cell_type": "markdown",
   "metadata": {},
   "source": [
    "There is no NaN or empty strings found in the data. Therefore, the data is clean and good to use."
   ]
  },
  {
   "cell_type": "markdown",
   "metadata": {},
   "source": [
    "### Analyse and summarise the cleaned dataset"
   ]
  },
  {
   "cell_type": "markdown",
   "metadata": {},
   "source": [
    "#### For fruit 'Bean' plot between different elements"
   ]
  },
  {
   "cell_type": "code",
   "execution_count": 12,
   "metadata": {},
   "outputs": [
    {
     "data": {
      "text/html": [
       "<div>\n",
       "<style scoped>\n",
       "    .dataframe tbody tr th:only-of-type {\n",
       "        vertical-align: middle;\n",
       "    }\n",
       "\n",
       "    .dataframe tbody tr th {\n",
       "        vertical-align: top;\n",
       "    }\n",
       "\n",
       "    .dataframe thead th {\n",
       "        text-align: right;\n",
       "    }\n",
       "</style>\n",
       "<table border=\"1\" class=\"dataframe\">\n",
       "  <thead>\n",
       "    <tr style=\"text-align: right;\">\n",
       "      <th></th>\n",
       "      <th>fruit_name</th>\n",
       "      <th>calcium</th>\n",
       "      <th>carbohydrt</th>\n",
       "      <th>copper</th>\n",
       "      <th>energ_kcal</th>\n",
       "      <th>iron</th>\n",
       "      <th>magnesium</th>\n",
       "      <th>manganese</th>\n",
       "      <th>phosphorus</th>\n",
       "      <th>protein</th>\n",
       "      <th>selenium</th>\n",
       "      <th>sodium</th>\n",
       "      <th>vit_b12</th>\n",
       "      <th>vit_b6</th>\n",
       "      <th>vit_c</th>\n",
       "      <th>vit_e</th>\n",
       "      <th>vit_k</th>\n",
       "      <th>water</th>\n",
       "      <th>zinc</th>\n",
       "    </tr>\n",
       "  </thead>\n",
       "  <tbody>\n",
       "    <tr>\n",
       "      <td>0</td>\n",
       "      <td>bean</td>\n",
       "      <td>0.38</td>\n",
       "      <td>0.652284</td>\n",
       "      <td>1.000000</td>\n",
       "      <td>0.468750</td>\n",
       "      <td>0.733333</td>\n",
       "      <td>0.891892</td>\n",
       "      <td>0.833333</td>\n",
       "      <td>0.595238</td>\n",
       "      <td>0.465251</td>\n",
       "      <td>0.000000</td>\n",
       "      <td>1.000000</td>\n",
       "      <td>0.000000</td>\n",
       "      <td>0.70</td>\n",
       "      <td>0.037037</td>\n",
       "      <td>0.413793</td>\n",
       "      <td>0.352941</td>\n",
       "      <td>0.383032</td>\n",
       "      <td>1.000000</td>\n",
       "    </tr>\n",
       "    <tr>\n",
       "      <td>1</td>\n",
       "      <td>bean</td>\n",
       "      <td>0.88</td>\n",
       "      <td>0.783418</td>\n",
       "      <td>1.000000</td>\n",
       "      <td>0.864583</td>\n",
       "      <td>0.761905</td>\n",
       "      <td>0.891892</td>\n",
       "      <td>0.833333</td>\n",
       "      <td>0.777778</td>\n",
       "      <td>0.667954</td>\n",
       "      <td>0.927536</td>\n",
       "      <td>0.619413</td>\n",
       "      <td>0.500000</td>\n",
       "      <td>0.31</td>\n",
       "      <td>0.407407</td>\n",
       "      <td>1.000000</td>\n",
       "      <td>0.470588</td>\n",
       "      <td>0.123996</td>\n",
       "      <td>0.700000</td>\n",
       "    </tr>\n",
       "    <tr>\n",
       "      <td>2</td>\n",
       "      <td>bean</td>\n",
       "      <td>1.00</td>\n",
       "      <td>0.764805</td>\n",
       "      <td>1.000000</td>\n",
       "      <td>1.000000</td>\n",
       "      <td>1.000000</td>\n",
       "      <td>1.000000</td>\n",
       "      <td>1.000000</td>\n",
       "      <td>1.000000</td>\n",
       "      <td>1.000000</td>\n",
       "      <td>1.000000</td>\n",
       "      <td>0.822478</td>\n",
       "      <td>1.000000</td>\n",
       "      <td>1.00</td>\n",
       "      <td>0.222222</td>\n",
       "      <td>0.000000</td>\n",
       "      <td>0.000000</td>\n",
       "      <td>0.000000</td>\n",
       "      <td>0.818182</td>\n",
       "    </tr>\n",
       "    <tr>\n",
       "      <td>3</td>\n",
       "      <td>bean</td>\n",
       "      <td>0.32</td>\n",
       "      <td>0.291878</td>\n",
       "      <td>0.533333</td>\n",
       "      <td>0.510417</td>\n",
       "      <td>0.571429</td>\n",
       "      <td>0.513514</td>\n",
       "      <td>0.483333</td>\n",
       "      <td>0.468254</td>\n",
       "      <td>0.534749</td>\n",
       "      <td>1.000000</td>\n",
       "      <td>0.272031</td>\n",
       "      <td>0.500000</td>\n",
       "      <td>0.50</td>\n",
       "      <td>0.629630</td>\n",
       "      <td>0.000000</td>\n",
       "      <td>0.000000</td>\n",
       "      <td>0.548695</td>\n",
       "      <td>0.400000</td>\n",
       "    </tr>\n",
       "    <tr>\n",
       "      <td>4</td>\n",
       "      <td>bean</td>\n",
       "      <td>0.62</td>\n",
       "      <td>1.000000</td>\n",
       "      <td>0.000000</td>\n",
       "      <td>0.822917</td>\n",
       "      <td>0.647619</td>\n",
       "      <td>0.000000</td>\n",
       "      <td>0.000000</td>\n",
       "      <td>0.000000</td>\n",
       "      <td>0.739382</td>\n",
       "      <td>0.000000</td>\n",
       "      <td>0.619413</td>\n",
       "      <td>0.000000</td>\n",
       "      <td>0.00</td>\n",
       "      <td>1.000000</td>\n",
       "      <td>0.000000</td>\n",
       "      <td>0.000000</td>\n",
       "      <td>0.125502</td>\n",
       "      <td>0.000000</td>\n",
       "    </tr>\n",
       "    <tr>\n",
       "      <td>5</td>\n",
       "      <td>bean</td>\n",
       "      <td>0.44</td>\n",
       "      <td>0.503384</td>\n",
       "      <td>0.273333</td>\n",
       "      <td>0.364583</td>\n",
       "      <td>0.276190</td>\n",
       "      <td>0.513514</td>\n",
       "      <td>0.380000</td>\n",
       "      <td>0.103175</td>\n",
       "      <td>0.341699</td>\n",
       "      <td>0.623188</td>\n",
       "      <td>0.000000</td>\n",
       "      <td>0.500000</td>\n",
       "      <td>0.46</td>\n",
       "      <td>0.370370</td>\n",
       "      <td>0.448276</td>\n",
       "      <td>1.000000</td>\n",
       "      <td>0.612952</td>\n",
       "      <td>0.481818</td>\n",
       "    </tr>\n",
       "    <tr>\n",
       "      <td>6</td>\n",
       "      <td>bean</td>\n",
       "      <td>0.00</td>\n",
       "      <td>0.210660</td>\n",
       "      <td>0.000000</td>\n",
       "      <td>0.510417</td>\n",
       "      <td>0.000000</td>\n",
       "      <td>0.000000</td>\n",
       "      <td>0.000000</td>\n",
       "      <td>0.000000</td>\n",
       "      <td>0.714286</td>\n",
       "      <td>0.000000</td>\n",
       "      <td>0.214559</td>\n",
       "      <td>0.000000</td>\n",
       "      <td>0.00</td>\n",
       "      <td>0.148148</td>\n",
       "      <td>0.000000</td>\n",
       "      <td>0.000000</td>\n",
       "      <td>0.552209</td>\n",
       "      <td>0.000000</td>\n",
       "    </tr>\n",
       "    <tr>\n",
       "      <td>7</td>\n",
       "      <td>bean</td>\n",
       "      <td>0.06</td>\n",
       "      <td>0.000000</td>\n",
       "      <td>0.516667</td>\n",
       "      <td>0.000000</td>\n",
       "      <td>0.019048</td>\n",
       "      <td>0.459459</td>\n",
       "      <td>0.416667</td>\n",
       "      <td>0.301587</td>\n",
       "      <td>0.000000</td>\n",
       "      <td>0.000000</td>\n",
       "      <td>0.383142</td>\n",
       "      <td>0.000000</td>\n",
       "      <td>0.35</td>\n",
       "      <td>0.000000</td>\n",
       "      <td>0.206897</td>\n",
       "      <td>0.176471</td>\n",
       "      <td>1.000000</td>\n",
       "      <td>0.500000</td>\n",
       "    </tr>\n",
       "    <tr>\n",
       "      <td>8</td>\n",
       "      <td>bean</td>\n",
       "      <td>0.30</td>\n",
       "      <td>0.050761</td>\n",
       "      <td>0.506667</td>\n",
       "      <td>0.177083</td>\n",
       "      <td>0.019048</td>\n",
       "      <td>0.459459</td>\n",
       "      <td>0.408333</td>\n",
       "      <td>0.380952</td>\n",
       "      <td>0.088803</td>\n",
       "      <td>0.449275</td>\n",
       "      <td>0.206897</td>\n",
       "      <td>0.166667</td>\n",
       "      <td>0.15</td>\n",
       "      <td>0.185185</td>\n",
       "      <td>0.494253</td>\n",
       "      <td>0.235294</td>\n",
       "      <td>0.886044</td>\n",
       "      <td>0.345455</td>\n",
       "    </tr>\n",
       "    <tr>\n",
       "      <td>9</td>\n",
       "      <td>bean</td>\n",
       "      <td>0.00</td>\n",
       "      <td>0.210660</td>\n",
       "      <td>0.000000</td>\n",
       "      <td>0.510417</td>\n",
       "      <td>0.000000</td>\n",
       "      <td>0.000000</td>\n",
       "      <td>0.000000</td>\n",
       "      <td>0.000000</td>\n",
       "      <td>0.714286</td>\n",
       "      <td>0.000000</td>\n",
       "      <td>0.219668</td>\n",
       "      <td>0.000000</td>\n",
       "      <td>0.00</td>\n",
       "      <td>0.148148</td>\n",
       "      <td>0.000000</td>\n",
       "      <td>0.000000</td>\n",
       "      <td>0.552209</td>\n",
       "      <td>0.000000</td>\n",
       "    </tr>\n",
       "  </tbody>\n",
       "</table>\n",
       "</div>"
      ],
      "text/plain": [
       "  fruit_name  calcium  carbohydrt    copper  energ_kcal      iron  magnesium  \\\n",
       "0       bean     0.38    0.652284  1.000000    0.468750  0.733333   0.891892   \n",
       "1       bean     0.88    0.783418  1.000000    0.864583  0.761905   0.891892   \n",
       "2       bean     1.00    0.764805  1.000000    1.000000  1.000000   1.000000   \n",
       "3       bean     0.32    0.291878  0.533333    0.510417  0.571429   0.513514   \n",
       "4       bean     0.62    1.000000  0.000000    0.822917  0.647619   0.000000   \n",
       "5       bean     0.44    0.503384  0.273333    0.364583  0.276190   0.513514   \n",
       "6       bean     0.00    0.210660  0.000000    0.510417  0.000000   0.000000   \n",
       "7       bean     0.06    0.000000  0.516667    0.000000  0.019048   0.459459   \n",
       "8       bean     0.30    0.050761  0.506667    0.177083  0.019048   0.459459   \n",
       "9       bean     0.00    0.210660  0.000000    0.510417  0.000000   0.000000   \n",
       "\n",
       "   manganese  phosphorus   protein  selenium    sodium   vit_b12  vit_b6  \\\n",
       "0   0.833333    0.595238  0.465251  0.000000  1.000000  0.000000    0.70   \n",
       "1   0.833333    0.777778  0.667954  0.927536  0.619413  0.500000    0.31   \n",
       "2   1.000000    1.000000  1.000000  1.000000  0.822478  1.000000    1.00   \n",
       "3   0.483333    0.468254  0.534749  1.000000  0.272031  0.500000    0.50   \n",
       "4   0.000000    0.000000  0.739382  0.000000  0.619413  0.000000    0.00   \n",
       "5   0.380000    0.103175  0.341699  0.623188  0.000000  0.500000    0.46   \n",
       "6   0.000000    0.000000  0.714286  0.000000  0.214559  0.000000    0.00   \n",
       "7   0.416667    0.301587  0.000000  0.000000  0.383142  0.000000    0.35   \n",
       "8   0.408333    0.380952  0.088803  0.449275  0.206897  0.166667    0.15   \n",
       "9   0.000000    0.000000  0.714286  0.000000  0.219668  0.000000    0.00   \n",
       "\n",
       "      vit_c     vit_e     vit_k     water      zinc  \n",
       "0  0.037037  0.413793  0.352941  0.383032  1.000000  \n",
       "1  0.407407  1.000000  0.470588  0.123996  0.700000  \n",
       "2  0.222222  0.000000  0.000000  0.000000  0.818182  \n",
       "3  0.629630  0.000000  0.000000  0.548695  0.400000  \n",
       "4  1.000000  0.000000  0.000000  0.125502  0.000000  \n",
       "5  0.370370  0.448276  1.000000  0.612952  0.481818  \n",
       "6  0.148148  0.000000  0.000000  0.552209  0.000000  \n",
       "7  0.000000  0.206897  0.176471  1.000000  0.500000  \n",
       "8  0.185185  0.494253  0.235294  0.886044  0.345455  \n",
       "9  0.148148  0.000000  0.000000  0.552209  0.000000  "
      ]
     },
     "execution_count": 12,
     "metadata": {},
     "output_type": "execute_result"
    }
   ],
   "source": [
    "#extract the data of \"Bean\" fruit from the list of data we have\n",
    "bean = pd.DataFrame()\n",
    "\n",
    "#Store the data of 'bean' fruit in a seperate dataframe\n",
    "for i in list_of_df:\n",
    "    if 'bean' == i['fruit_name'][0]:\n",
    "        bean = i\n",
    "        \n",
    "bean        "
   ]
  },
  {
   "cell_type": "markdown",
   "metadata": {},
   "source": [
    "#### Describing the data of Bean Fruit\n",
    "The describe function gives the values of different agggregation functions as shown below."
   ]
  },
  {
   "cell_type": "code",
   "execution_count": 13,
   "metadata": {},
   "outputs": [
    {
     "data": {
      "text/html": [
       "<div>\n",
       "<style scoped>\n",
       "    .dataframe tbody tr th:only-of-type {\n",
       "        vertical-align: middle;\n",
       "    }\n",
       "\n",
       "    .dataframe tbody tr th {\n",
       "        vertical-align: top;\n",
       "    }\n",
       "\n",
       "    .dataframe thead th {\n",
       "        text-align: right;\n",
       "    }\n",
       "</style>\n",
       "<table border=\"1\" class=\"dataframe\">\n",
       "  <thead>\n",
       "    <tr style=\"text-align: right;\">\n",
       "      <th></th>\n",
       "      <th>calcium</th>\n",
       "      <th>carbohydrt</th>\n",
       "      <th>copper</th>\n",
       "      <th>energ_kcal</th>\n",
       "      <th>iron</th>\n",
       "      <th>magnesium</th>\n",
       "      <th>manganese</th>\n",
       "      <th>phosphorus</th>\n",
       "      <th>protein</th>\n",
       "      <th>selenium</th>\n",
       "      <th>sodium</th>\n",
       "      <th>vit_b12</th>\n",
       "      <th>vit_b6</th>\n",
       "      <th>vit_c</th>\n",
       "      <th>vit_e</th>\n",
       "      <th>vit_k</th>\n",
       "      <th>water</th>\n",
       "      <th>zinc</th>\n",
       "    </tr>\n",
       "  </thead>\n",
       "  <tbody>\n",
       "    <tr>\n",
       "      <td>count</td>\n",
       "      <td>10.000000</td>\n",
       "      <td>10.000000</td>\n",
       "      <td>10.000000</td>\n",
       "      <td>10.000000</td>\n",
       "      <td>10.000000</td>\n",
       "      <td>10.000000</td>\n",
       "      <td>10.000000</td>\n",
       "      <td>10.000000</td>\n",
       "      <td>10.000000</td>\n",
       "      <td>10.000000</td>\n",
       "      <td>10.000000</td>\n",
       "      <td>10.000000</td>\n",
       "      <td>10.00000</td>\n",
       "      <td>10.000000</td>\n",
       "      <td>10.000000</td>\n",
       "      <td>10.000000</td>\n",
       "      <td>10.000000</td>\n",
       "      <td>10.000000</td>\n",
       "    </tr>\n",
       "    <tr>\n",
       "      <td>mean</td>\n",
       "      <td>0.400000</td>\n",
       "      <td>0.446785</td>\n",
       "      <td>0.483000</td>\n",
       "      <td>0.522917</td>\n",
       "      <td>0.402857</td>\n",
       "      <td>0.472973</td>\n",
       "      <td>0.435500</td>\n",
       "      <td>0.362698</td>\n",
       "      <td>0.526641</td>\n",
       "      <td>0.400000</td>\n",
       "      <td>0.435760</td>\n",
       "      <td>0.266667</td>\n",
       "      <td>0.34700</td>\n",
       "      <td>0.314815</td>\n",
       "      <td>0.256322</td>\n",
       "      <td>0.223529</td>\n",
       "      <td>0.478464</td>\n",
       "      <td>0.424545</td>\n",
       "    </tr>\n",
       "    <tr>\n",
       "      <td>std</td>\n",
       "      <td>0.348457</td>\n",
       "      <td>0.342847</td>\n",
       "      <td>0.414986</td>\n",
       "      <td>0.308376</td>\n",
       "      <td>0.382722</td>\n",
       "      <td>0.380571</td>\n",
       "      <td>0.366764</td>\n",
       "      <td>0.351146</td>\n",
       "      <td>0.310342</td>\n",
       "      <td>0.453448</td>\n",
       "      <td>0.316726</td>\n",
       "      <td>0.344265</td>\n",
       "      <td>0.33143</td>\n",
       "      <td>0.305041</td>\n",
       "      <td>0.333710</td>\n",
       "      <td>0.321951</td>\n",
       "      <td>0.326647</td>\n",
       "      <td>0.352534</td>\n",
       "    </tr>\n",
       "    <tr>\n",
       "      <td>min</td>\n",
       "      <td>0.000000</td>\n",
       "      <td>0.000000</td>\n",
       "      <td>0.000000</td>\n",
       "      <td>0.000000</td>\n",
       "      <td>0.000000</td>\n",
       "      <td>0.000000</td>\n",
       "      <td>0.000000</td>\n",
       "      <td>0.000000</td>\n",
       "      <td>0.000000</td>\n",
       "      <td>0.000000</td>\n",
       "      <td>0.000000</td>\n",
       "      <td>0.000000</td>\n",
       "      <td>0.00000</td>\n",
       "      <td>0.000000</td>\n",
       "      <td>0.000000</td>\n",
       "      <td>0.000000</td>\n",
       "      <td>0.000000</td>\n",
       "      <td>0.000000</td>\n",
       "    </tr>\n",
       "    <tr>\n",
       "      <td>25%</td>\n",
       "      <td>0.120000</td>\n",
       "      <td>0.210660</td>\n",
       "      <td>0.068333</td>\n",
       "      <td>0.390625</td>\n",
       "      <td>0.019048</td>\n",
       "      <td>0.114865</td>\n",
       "      <td>0.095000</td>\n",
       "      <td>0.025794</td>\n",
       "      <td>0.372587</td>\n",
       "      <td>0.000000</td>\n",
       "      <td>0.215837</td>\n",
       "      <td>0.000000</td>\n",
       "      <td>0.03750</td>\n",
       "      <td>0.148148</td>\n",
       "      <td>0.000000</td>\n",
       "      <td>0.000000</td>\n",
       "      <td>0.189885</td>\n",
       "      <td>0.086364</td>\n",
       "    </tr>\n",
       "    <tr>\n",
       "      <td>50%</td>\n",
       "      <td>0.350000</td>\n",
       "      <td>0.397631</td>\n",
       "      <td>0.511667</td>\n",
       "      <td>0.510417</td>\n",
       "      <td>0.423810</td>\n",
       "      <td>0.486486</td>\n",
       "      <td>0.412500</td>\n",
       "      <td>0.341270</td>\n",
       "      <td>0.601351</td>\n",
       "      <td>0.224638</td>\n",
       "      <td>0.327586</td>\n",
       "      <td>0.083333</td>\n",
       "      <td>0.33000</td>\n",
       "      <td>0.203704</td>\n",
       "      <td>0.103448</td>\n",
       "      <td>0.088235</td>\n",
       "      <td>0.550452</td>\n",
       "      <td>0.440909</td>\n",
       "    </tr>\n",
       "    <tr>\n",
       "      <td>75%</td>\n",
       "      <td>0.575000</td>\n",
       "      <td>0.736675</td>\n",
       "      <td>0.883333</td>\n",
       "      <td>0.744792</td>\n",
       "      <td>0.711905</td>\n",
       "      <td>0.797297</td>\n",
       "      <td>0.745833</td>\n",
       "      <td>0.563492</td>\n",
       "      <td>0.714286</td>\n",
       "      <td>0.851449</td>\n",
       "      <td>0.619413</td>\n",
       "      <td>0.500000</td>\n",
       "      <td>0.49000</td>\n",
       "      <td>0.398148</td>\n",
       "      <td>0.439655</td>\n",
       "      <td>0.323529</td>\n",
       "      <td>0.597766</td>\n",
       "      <td>0.650000</td>\n",
       "    </tr>\n",
       "    <tr>\n",
       "      <td>max</td>\n",
       "      <td>1.000000</td>\n",
       "      <td>1.000000</td>\n",
       "      <td>1.000000</td>\n",
       "      <td>1.000000</td>\n",
       "      <td>1.000000</td>\n",
       "      <td>1.000000</td>\n",
       "      <td>1.000000</td>\n",
       "      <td>1.000000</td>\n",
       "      <td>1.000000</td>\n",
       "      <td>1.000000</td>\n",
       "      <td>1.000000</td>\n",
       "      <td>1.000000</td>\n",
       "      <td>1.00000</td>\n",
       "      <td>1.000000</td>\n",
       "      <td>1.000000</td>\n",
       "      <td>1.000000</td>\n",
       "      <td>1.000000</td>\n",
       "      <td>1.000000</td>\n",
       "    </tr>\n",
       "  </tbody>\n",
       "</table>\n",
       "</div>"
      ],
      "text/plain": [
       "         calcium  carbohydrt     copper  energ_kcal       iron  magnesium  \\\n",
       "count  10.000000   10.000000  10.000000   10.000000  10.000000  10.000000   \n",
       "mean    0.400000    0.446785   0.483000    0.522917   0.402857   0.472973   \n",
       "std     0.348457    0.342847   0.414986    0.308376   0.382722   0.380571   \n",
       "min     0.000000    0.000000   0.000000    0.000000   0.000000   0.000000   \n",
       "25%     0.120000    0.210660   0.068333    0.390625   0.019048   0.114865   \n",
       "50%     0.350000    0.397631   0.511667    0.510417   0.423810   0.486486   \n",
       "75%     0.575000    0.736675   0.883333    0.744792   0.711905   0.797297   \n",
       "max     1.000000    1.000000   1.000000    1.000000   1.000000   1.000000   \n",
       "\n",
       "       manganese  phosphorus    protein   selenium     sodium    vit_b12  \\\n",
       "count  10.000000   10.000000  10.000000  10.000000  10.000000  10.000000   \n",
       "mean    0.435500    0.362698   0.526641   0.400000   0.435760   0.266667   \n",
       "std     0.366764    0.351146   0.310342   0.453448   0.316726   0.344265   \n",
       "min     0.000000    0.000000   0.000000   0.000000   0.000000   0.000000   \n",
       "25%     0.095000    0.025794   0.372587   0.000000   0.215837   0.000000   \n",
       "50%     0.412500    0.341270   0.601351   0.224638   0.327586   0.083333   \n",
       "75%     0.745833    0.563492   0.714286   0.851449   0.619413   0.500000   \n",
       "max     1.000000    1.000000   1.000000   1.000000   1.000000   1.000000   \n",
       "\n",
       "         vit_b6      vit_c      vit_e      vit_k      water       zinc  \n",
       "count  10.00000  10.000000  10.000000  10.000000  10.000000  10.000000  \n",
       "mean    0.34700   0.314815   0.256322   0.223529   0.478464   0.424545  \n",
       "std     0.33143   0.305041   0.333710   0.321951   0.326647   0.352534  \n",
       "min     0.00000   0.000000   0.000000   0.000000   0.000000   0.000000  \n",
       "25%     0.03750   0.148148   0.000000   0.000000   0.189885   0.086364  \n",
       "50%     0.33000   0.203704   0.103448   0.088235   0.550452   0.440909  \n",
       "75%     0.49000   0.398148   0.439655   0.323529   0.597766   0.650000  \n",
       "max     1.00000   1.000000   1.000000   1.000000   1.000000   1.000000  "
      ]
     },
     "execution_count": 13,
     "metadata": {},
     "output_type": "execute_result"
    }
   ],
   "source": [
    "bean.describe()"
   ]
  },
  {
   "cell_type": "markdown",
   "metadata": {},
   "source": [
    "##### Finding Correlation between elements of Bean\n",
    "\n",
    "Construction of a heatmap which would help us find the approximate relation between data fields. <br>\n",
    "The more positive value of correlation coefficient represents direct proportionality and negative indicates inverse proportionality. The figure below represents cream color for positive correlation and blue shades for negative correlation. It is easier with the colors that we could tell that how much two fields are proportional to each other."
   ]
  },
  {
   "cell_type": "code",
   "execution_count": 14,
   "metadata": {},
   "outputs": [
    {
     "data": {
      "text/plain": [
       "<matplotlib.axes._subplots.AxesSubplot at 0x1917f098198>"
      ]
     },
     "execution_count": 14,
     "metadata": {},
     "output_type": "execute_result"
    },
    {
     "data": {
      "image/png": "[encoded data removed]",
      "text/plain": [
       "<Figure size 792x648 with 2 Axes>"
      ]
     },
     "metadata": {
      "needs_background": "light"
     },
     "output_type": "display_data"
    }
   ],
   "source": [
    "# variable to store correlation\n",
    "corr = bean.corr()\n",
    "\n",
    "# Hiding the upper triangle so that we get asymmetric triangle for data relation\n",
    "mask = np.triu(np.ones_like(corr, dtype=np.bool))\n",
    "\n",
    "# Set up the matplotlib figure\n",
    "f, ax = plt.subplots(figsize=(11, 9))\n",
    "\n",
    "# Generate a custom diverging colormap\n",
    "cmap = sns.diverging_palette(220, 20, sep=20, as_cmap=True)\n",
    "\n",
    "# Drawing heatmap with the mask and correct aspect ratio\n",
    "sns.heatmap(corr, mask=mask, cmap=cmap, vmax=.3, center=0,\n",
    "            square=True, linewidths=.5, cbar_kws={\"shrink\": .5})"
   ]
  },
  {
   "cell_type": "markdown",
   "metadata": {},
   "source": [
    "From the heatmap we can see that calcium, carbohydrate, copper, energy kcal, iron are related to many fields directly and have a quiet very positive relation. <br>\n",
    "Water is extremely inversely proportional to many fields like - Calcium, Carohydrate. Energy kilo-calorie, protein.\n",
    "\n",
    "##### Finding relation between energy kilo-calories and different elements using Scatter Plots"
   ]
  },
  {
   "cell_type": "code",
   "execution_count": 15,
   "metadata": {
    "scrolled": true
   },
   "outputs": [
    {
     "data": {
      "image/png": "[encoded data removed]",
      "text/plain": [
       "<Figure size 224x216 with 1 Axes>"
      ]
     },
     "metadata": {
      "needs_background": "light"
     },
     "output_type": "display_data"
    }
   ],
   "source": [
    "#plotting using seaborn Face Grid function\n",
    "g = sns.FacetGrid(bean)\n",
    "g.map(plt.scatter, \"energ_kcal\", \"vit_b6\", alpha=.7)\n",
    "g.add_legend();"
   ]
  },
  {
   "cell_type": "code",
   "execution_count": 16,
   "metadata": {},
   "outputs": [
    {
     "data": {
      "image/png": "[encoded data removed]",
      "text/plain": [
       "<Figure size 224x216 with 1 Axes>"
      ]
     },
     "metadata": {
      "needs_background": "light"
     },
     "output_type": "display_data"
    }
   ],
   "source": [
    "g = sns.FacetGrid(bean)\n",
    "g.map(plt.scatter, \"energ_kcal\", \"phosphorus\", alpha=.7)\n",
    "g.add_legend();"
   ]
  },
  {
   "cell_type": "code",
   "execution_count": 17,
   "metadata": {},
   "outputs": [
    {
     "data": {
      "image/png": "[encoded data removed]",
      "text/plain": [
       "<Figure size 224x216 with 1 Axes>"
      ]
     },
     "metadata": {
      "needs_background": "light"
     },
     "output_type": "display_data"
    }
   ],
   "source": [
    "g = sns.FacetGrid(bean)\n",
    "g.map(plt.scatter, \"energ_kcal\", \"water\", alpha=.7)\n",
    "g.add_legend();"
   ]
  },
  {
   "cell_type": "code",
   "execution_count": 18,
   "metadata": {},
   "outputs": [
    {
     "data": {
      "image/png": "[encoded data removed]",
      "text/plain": [
       "<Figure size 224x216 with 1 Axes>"
      ]
     },
     "metadata": {
      "needs_background": "light"
     },
     "output_type": "display_data"
    }
   ],
   "source": [
    "g = sns.FacetGrid(bean)\n",
    "g.map(plt.scatter, \"energ_kcal\", \"calcium\", alpha=.7)\n",
    "g.add_legend();"
   ]
  },
  {
   "cell_type": "code",
   "execution_count": 19,
   "metadata": {},
   "outputs": [
    {
     "data": {
      "text/plain": [
       "<matplotlib.axes._subplots.AxesSubplot at 0x1917f7e0828>"
      ]
     },
     "execution_count": 19,
     "metadata": {},
     "output_type": "execute_result"
    },
    {
     "data": {
      "image/png": "[encoded data removed]",
      "text/plain": [
       "<Figure size 432x288 with 4 Axes>"
      ]
     },
     "metadata": {
      "needs_background": "light"
     },
     "output_type": "display_data"
    }
   ],
   "source": [
    "#finding relation comparison between Vitamin B6, Phosphorus, Water and Calcium with Energy Kilo Calores\n",
    "fig, axs = plt.subplots(ncols=4)\n",
    "fig.tight_layout()\n",
    "plt.subplots_adjust(left=None, bottom=None, right=None, top=None, wspace=1, hspace=None)\n",
    "sns.regplot(x='energ_kcal', y='vit_b6', data=bean, ax=axs[0])\n",
    "sns.regplot(x='energ_kcal', y='phosphorus', data=bean, ax=axs[1])\n",
    "sns.regplot(x='energ_kcal',y='water', data=bean, ax=axs[2])\n",
    "sns.regplot(x='energ_kcal',y='calcium', data=bean, ax=axs[3])"
   ]
  },
  {
   "cell_type": "markdown",
   "metadata": {},
   "source": [
    "<b>Plot Observations:</b>\n",
    "Energy Kilo Calories is directly propoertional to Vitamin B6, Phosphorus, Calcium and inversely proportional to Water and Calcium when Bean is consumed with your meal."
   ]
  },
  {
   "cell_type": "markdown",
   "metadata": {},
   "source": [
    "#### Similarly, plotting for Iron vs other elements"
   ]
  },
  {
   "cell_type": "code",
   "execution_count": 20,
   "metadata": {
    "scrolled": true
   },
   "outputs": [
    {
     "data": {
      "image/png": "[encoded data removed]",
      "text/plain": [
       "<Figure size 224x216 with 1 Axes>"
      ]
     },
     "metadata": {
      "needs_background": "light"
     },
     "output_type": "display_data"
    }
   ],
   "source": [
    "#plotting using seaborn Face Grid function\n",
    "g = sns.FacetGrid(bean)\n",
    "g.map(plt.scatter, \"iron\", \"vit_b6\", alpha=.7)\n",
    "g.add_legend();"
   ]
  },
  {
   "cell_type": "code",
   "execution_count": 21,
   "metadata": {},
   "outputs": [
    {
     "data": {
      "image/png": "[encoded data removed]",
      "text/plain": [
       "<Figure size 224x216 with 1 Axes>"
      ]
     },
     "metadata": {
      "needs_background": "light"
     },
     "output_type": "display_data"
    }
   ],
   "source": [
    "g = sns.FacetGrid(bean)\n",
    "g.map(plt.scatter, \"iron\", \"phosphorus\", alpha=.7)\n",
    "g.add_legend();"
   ]
  },
  {
   "cell_type": "code",
   "execution_count": 22,
   "metadata": {},
   "outputs": [
    {
     "data": {
      "image/png": "[encoded data removed]",
      "text/plain": [
       "<Figure size 224x216 with 1 Axes>"
      ]
     },
     "metadata": {
      "needs_background": "light"
     },
     "output_type": "display_data"
    }
   ],
   "source": [
    "g = sns.FacetGrid(bean)\n",
    "g.map(plt.scatter, \"iron\", \"water\", alpha=.7)\n",
    "g.add_legend();"
   ]
  },
  {
   "cell_type": "code",
   "execution_count": 23,
   "metadata": {},
   "outputs": [
    {
     "data": {
      "image/png": "[encoded data removed]",
      "text/plain": [
       "<Figure size 224x216 with 1 Axes>"
      ]
     },
     "metadata": {
      "needs_background": "light"
     },
     "output_type": "display_data"
    }
   ],
   "source": [
    "g = sns.FacetGrid(bean)\n",
    "g.map(plt.scatter, \"iron\", \"calcium\", alpha=.7)\n",
    "g.add_legend();"
   ]
  },
  {
   "cell_type": "code",
   "execution_count": 24,
   "metadata": {},
   "outputs": [
    {
     "data": {
      "text/plain": [
       "<matplotlib.axes._subplots.AxesSubplot at 0x1917fad7ba8>"
      ]
     },
     "execution_count": 24,
     "metadata": {},
     "output_type": "execute_result"
    },
    {
     "data": {
      "image/png": "[encoded data removed]",
      "text/plain": [
       "<Figure size 432x288 with 4 Axes>"
      ]
     },
     "metadata": {
      "needs_background": "light"
     },
     "output_type": "display_data"
    }
   ],
   "source": [
    "#finding relation comparison between Vitamin B6, Phosphorus, Water and Calcium with Energy Kilo Calores\n",
    "fig, axs = plt.subplots(ncols=4)\n",
    "fig.tight_layout()\n",
    "plt.subplots_adjust(left=None, bottom=None, right=None, top=None, wspace=1, hspace=None)\n",
    "sns.regplot(x='iron', y='vit_b6', data=bean, ax=axs[0])\n",
    "sns.regplot(x='iron', y='phosphorus', data=bean, ax=axs[1])\n",
    "sns.regplot(x='iron',y='water', data=bean, ax=axs[2])\n",
    "sns.regplot(x='iron',y='calcium', data=bean, ax=axs[3])"
   ]
  },
  {
   "cell_type": "markdown",
   "metadata": {},
   "source": [
    "<b>Plot Observations:</b>\n",
    "Iron is directly proportional to Vitamin B6, Phosphorus and Calcium; and inversely proportional to Water when Bean is consumed in you meal."
   ]
  },
  {
   "cell_type": "markdown",
   "metadata": {},
   "source": [
    "### For 'Peach' fruit plot between different elements"
   ]
  },
  {
   "cell_type": "code",
   "execution_count": 25,
   "metadata": {},
   "outputs": [
    {
     "data": {
      "text/html": [
       "<div>\n",
       "<style scoped>\n",
       "    .dataframe tbody tr th:only-of-type {\n",
       "        vertical-align: middle;\n",
       "    }\n",
       "\n",
       "    .dataframe tbody tr th {\n",
       "        vertical-align: top;\n",
       "    }\n",
       "\n",
       "    .dataframe thead th {\n",
       "        text-align: right;\n",
       "    }\n",
       "</style>\n",
       "<table border=\"1\" class=\"dataframe\">\n",
       "  <thead>\n",
       "    <tr style=\"text-align: right;\">\n",
       "      <th></th>\n",
       "      <th>calcium</th>\n",
       "      <th>carbohydrt</th>\n",
       "      <th>copper</th>\n",
       "      <th>energ_kcal</th>\n",
       "      <th>iron</th>\n",
       "      <th>magnesium</th>\n",
       "      <th>manganese</th>\n",
       "      <th>phosphorus</th>\n",
       "      <th>protein</th>\n",
       "      <th>selenium</th>\n",
       "      <th>sodium</th>\n",
       "      <th>vit_b12</th>\n",
       "      <th>vit_b6</th>\n",
       "      <th>vit_c</th>\n",
       "      <th>vit_e</th>\n",
       "      <th>vit_k</th>\n",
       "      <th>water</th>\n",
       "      <th>zinc</th>\n",
       "    </tr>\n",
       "  </thead>\n",
       "  <tbody>\n",
       "    <tr>\n",
       "      <td>count</td>\n",
       "      <td>10.000000</td>\n",
       "      <td>10.000000</td>\n",
       "      <td>10.000000</td>\n",
       "      <td>10.000000</td>\n",
       "      <td>10.000000</td>\n",
       "      <td>10.000000</td>\n",
       "      <td>10.000000</td>\n",
       "      <td>10.000000</td>\n",
       "      <td>10.000000</td>\n",
       "      <td>10.000000</td>\n",
       "      <td>10.000000</td>\n",
       "      <td>10.000000</td>\n",
       "      <td>10.000000</td>\n",
       "      <td>10.000000</td>\n",
       "      <td>10.000000</td>\n",
       "      <td>10.000000</td>\n",
       "      <td>10.000000</td>\n",
       "      <td>10.000000</td>\n",
       "    </tr>\n",
       "    <tr>\n",
       "      <td>mean</td>\n",
       "      <td>0.158824</td>\n",
       "      <td>0.195612</td>\n",
       "      <td>0.442857</td>\n",
       "      <td>0.151429</td>\n",
       "      <td>0.148148</td>\n",
       "      <td>0.128696</td>\n",
       "      <td>0.248000</td>\n",
       "      <td>0.123841</td>\n",
       "      <td>0.131313</td>\n",
       "      <td>0.290000</td>\n",
       "      <td>0.135323</td>\n",
       "      <td>0.100000</td>\n",
       "      <td>0.232174</td>\n",
       "      <td>0.377358</td>\n",
       "      <td>0.326829</td>\n",
       "      <td>0.284848</td>\n",
       "      <td>0.835924</td>\n",
       "      <td>0.157798</td>\n",
       "    </tr>\n",
       "    <tr>\n",
       "      <td>std</td>\n",
       "      <td>0.315991</td>\n",
       "      <td>0.287944</td>\n",
       "      <td>0.437758</td>\n",
       "      <td>0.299587</td>\n",
       "      <td>0.303433</td>\n",
       "      <td>0.307049</td>\n",
       "      <td>0.405539</td>\n",
       "      <td>0.308424</td>\n",
       "      <td>0.307423</td>\n",
       "      <td>0.398469</td>\n",
       "      <td>0.306542</td>\n",
       "      <td>0.316228</td>\n",
       "      <td>0.337704</td>\n",
       "      <td>0.325113</td>\n",
       "      <td>0.392983</td>\n",
       "      <td>0.400413</td>\n",
       "      <td>0.296214</td>\n",
       "      <td>0.300265</td>\n",
       "    </tr>\n",
       "    <tr>\n",
       "      <td>min</td>\n",
       "      <td>0.000000</td>\n",
       "      <td>0.000000</td>\n",
       "      <td>0.000000</td>\n",
       "      <td>0.000000</td>\n",
       "      <td>0.000000</td>\n",
       "      <td>0.000000</td>\n",
       "      <td>0.000000</td>\n",
       "      <td>0.000000</td>\n",
       "      <td>0.000000</td>\n",
       "      <td>0.000000</td>\n",
       "      <td>0.000000</td>\n",
       "      <td>0.000000</td>\n",
       "      <td>0.000000</td>\n",
       "      <td>0.000000</td>\n",
       "      <td>0.000000</td>\n",
       "      <td>0.000000</td>\n",
       "      <td>0.000000</td>\n",
       "      <td>0.000000</td>\n",
       "    </tr>\n",
       "    <tr>\n",
       "      <td>25%</td>\n",
       "      <td>0.009804</td>\n",
       "      <td>0.077403</td>\n",
       "      <td>0.153061</td>\n",
       "      <td>0.046429</td>\n",
       "      <td>0.023148</td>\n",
       "      <td>0.017391</td>\n",
       "      <td>0.000000</td>\n",
       "      <td>0.016556</td>\n",
       "      <td>0.010101</td>\n",
       "      <td>0.000000</td>\n",
       "      <td>0.019900</td>\n",
       "      <td>0.000000</td>\n",
       "      <td>0.008696</td>\n",
       "      <td>0.127358</td>\n",
       "      <td>0.015244</td>\n",
       "      <td>0.000000</td>\n",
       "      <td>0.895690</td>\n",
       "      <td>0.022936</td>\n",
       "    </tr>\n",
       "    <tr>\n",
       "      <td>50%</td>\n",
       "      <td>0.019608</td>\n",
       "      <td>0.126212</td>\n",
       "      <td>0.170918</td>\n",
       "      <td>0.072857</td>\n",
       "      <td>0.048148</td>\n",
       "      <td>0.021739</td>\n",
       "      <td>0.000000</td>\n",
       "      <td>0.018212</td>\n",
       "      <td>0.020202</td>\n",
       "      <td>0.100000</td>\n",
       "      <td>0.039801</td>\n",
       "      <td>0.000000</td>\n",
       "      <td>0.104348</td>\n",
       "      <td>0.295991</td>\n",
       "      <td>0.126016</td>\n",
       "      <td>0.121212</td>\n",
       "      <td>0.910825</td>\n",
       "      <td>0.052752</td>\n",
       "    </tr>\n",
       "    <tr>\n",
       "      <td>75%</td>\n",
       "      <td>0.075980</td>\n",
       "      <td>0.159655</td>\n",
       "      <td>0.906888</td>\n",
       "      <td>0.080000</td>\n",
       "      <td>0.082407</td>\n",
       "      <td>0.060870</td>\n",
       "      <td>0.555000</td>\n",
       "      <td>0.049669</td>\n",
       "      <td>0.074747</td>\n",
       "      <td>0.375000</td>\n",
       "      <td>0.044776</td>\n",
       "      <td>0.000000</td>\n",
       "      <td>0.256522</td>\n",
       "      <td>0.620873</td>\n",
       "      <td>0.691057</td>\n",
       "      <td>0.371212</td>\n",
       "      <td>0.948813</td>\n",
       "      <td>0.128440</td>\n",
       "    </tr>\n",
       "    <tr>\n",
       "      <td>max</td>\n",
       "      <td>1.000000</td>\n",
       "      <td>1.000000</td>\n",
       "      <td>1.000000</td>\n",
       "      <td>1.000000</td>\n",
       "      <td>1.000000</td>\n",
       "      <td>1.000000</td>\n",
       "      <td>1.000000</td>\n",
       "      <td>1.000000</td>\n",
       "      <td>1.000000</td>\n",
       "      <td>1.000000</td>\n",
       "      <td>1.000000</td>\n",
       "      <td>1.000000</td>\n",
       "      <td>1.000000</td>\n",
       "      <td>1.000000</td>\n",
       "      <td>1.000000</td>\n",
       "      <td>1.000000</td>\n",
       "      <td>1.000000</td>\n",
       "      <td>1.000000</td>\n",
       "    </tr>\n",
       "  </tbody>\n",
       "</table>\n",
       "</div>"
      ],
      "text/plain": [
       "         calcium  carbohydrt     copper  energ_kcal       iron  magnesium  \\\n",
       "count  10.000000   10.000000  10.000000   10.000000  10.000000  10.000000   \n",
       "mean    0.158824    0.195612   0.442857    0.151429   0.148148   0.128696   \n",
       "std     0.315991    0.287944   0.437758    0.299587   0.303433   0.307049   \n",
       "min     0.000000    0.000000   0.000000    0.000000   0.000000   0.000000   \n",
       "25%     0.009804    0.077403   0.153061    0.046429   0.023148   0.017391   \n",
       "50%     0.019608    0.126212   0.170918    0.072857   0.048148   0.021739   \n",
       "75%     0.075980    0.159655   0.906888    0.080000   0.082407   0.060870   \n",
       "max     1.000000    1.000000   1.000000    1.000000   1.000000   1.000000   \n",
       "\n",
       "       manganese  phosphorus    protein   selenium     sodium    vit_b12  \\\n",
       "count  10.000000   10.000000  10.000000  10.000000  10.000000  10.000000   \n",
       "mean    0.248000    0.123841   0.131313   0.290000   0.135323   0.100000   \n",
       "std     0.405539    0.308424   0.307423   0.398469   0.306542   0.316228   \n",
       "min     0.000000    0.000000   0.000000   0.000000   0.000000   0.000000   \n",
       "25%     0.000000    0.016556   0.010101   0.000000   0.019900   0.000000   \n",
       "50%     0.000000    0.018212   0.020202   0.100000   0.039801   0.000000   \n",
       "75%     0.555000    0.049669   0.074747   0.375000   0.044776   0.000000   \n",
       "max     1.000000    1.000000   1.000000   1.000000   1.000000   1.000000   \n",
       "\n",
       "          vit_b6      vit_c      vit_e      vit_k      water       zinc  \n",
       "count  10.000000  10.000000  10.000000  10.000000  10.000000  10.000000  \n",
       "mean    0.232174   0.377358   0.326829   0.284848   0.835924   0.157798  \n",
       "std     0.337704   0.325113   0.392983   0.400413   0.296214   0.300265  \n",
       "min     0.000000   0.000000   0.000000   0.000000   0.000000   0.000000  \n",
       "25%     0.008696   0.127358   0.015244   0.000000   0.895690   0.022936  \n",
       "50%     0.104348   0.295991   0.126016   0.121212   0.910825   0.052752  \n",
       "75%     0.256522   0.620873   0.691057   0.371212   0.948813   0.128440  \n",
       "max     1.000000   1.000000   1.000000   1.000000   1.000000   1.000000  "
      ]
     },
     "execution_count": 25,
     "metadata": {},
     "output_type": "execute_result"
    }
   ],
   "source": [
    "peach = pd.DataFrame()\n",
    "\n",
    "for i in list_of_df:\n",
    "    if 'peach' == i['fruit_name'][0]:\n",
    "        peach = i\n",
    "        \n",
    "peach.describe()     "
   ]
  },
  {
   "cell_type": "markdown",
   "metadata": {},
   "source": [
    "##### Finding Correlation between elements of Peach\n",
    "Construction of a heatmap which would help us find the approximate relation between data fields. <br>\n",
    "The more positive value of correlation coefficient represents direct proportionality and negative indicates inverse proportionality. The figure below represents cream color for positive correlation and blue shades for negative correlation. It is easier with the colors that we could tell that how much two fields are proportional to each other."
   ]
  },
  {
   "cell_type": "code",
   "execution_count": 26,
   "metadata": {},
   "outputs": [
    {
     "data": {
      "text/plain": [
       "<matplotlib.axes._subplots.AxesSubplot at 0x1917fbb30f0>"
      ]
     },
     "execution_count": 26,
     "metadata": {},
     "output_type": "execute_result"
    },
    {
     "data": {
      "image/png": "[encoded data removed]",
      "text/plain": [
       "<Figure size 792x648 with 2 Axes>"
      ]
     },
     "metadata": {
      "needs_background": "light"
     },
     "output_type": "display_data"
    }
   ],
   "source": [
    "corr = peach.corr()\n",
    "\n",
    "# Generate a mask for the upper triangle\n",
    "mask = np.triu(np.ones_like(corr, dtype=np.bool))\n",
    "\n",
    "# Set up the matplotlib figure\n",
    "f, ax = plt.subplots(figsize=(11, 9))\n",
    "\n",
    "# Generate a custom diverging colormap\n",
    "cmap = sns.diverging_palette(220, 20, sep=20, as_cmap=True)\n",
    "\n",
    "# Draw the heatmap with the mask and correct aspect ratio\n",
    "sns.heatmap(corr, mask=mask, cmap=cmap, vmax=.3, center=0,\n",
    "            square=True, linewidths=.5, cbar_kws={\"shrink\": .5})"
   ]
  },
  {
   "cell_type": "code",
   "execution_count": 27,
   "metadata": {},
   "outputs": [
    {
     "data": {
      "text/html": [
       "<div>\n",
       "<style scoped>\n",
       "    .dataframe tbody tr th:only-of-type {\n",
       "        vertical-align: middle;\n",
       "    }\n",
       "\n",
       "    .dataframe tbody tr th {\n",
       "        vertical-align: top;\n",
       "    }\n",
       "\n",
       "    .dataframe thead th {\n",
       "        text-align: right;\n",
       "    }\n",
       "</style>\n",
       "<table border=\"1\" class=\"dataframe\">\n",
       "  <thead>\n",
       "    <tr style=\"text-align: right;\">\n",
       "      <th></th>\n",
       "      <th>calcium</th>\n",
       "      <th>carbohydrt</th>\n",
       "      <th>copper</th>\n",
       "      <th>energ_kcal</th>\n",
       "      <th>iron</th>\n",
       "      <th>magnesium</th>\n",
       "      <th>manganese</th>\n",
       "      <th>phosphorus</th>\n",
       "      <th>protein</th>\n",
       "      <th>selenium</th>\n",
       "      <th>sodium</th>\n",
       "      <th>vit_b12</th>\n",
       "      <th>vit_b6</th>\n",
       "      <th>vit_c</th>\n",
       "      <th>vit_e</th>\n",
       "      <th>vit_k</th>\n",
       "      <th>water</th>\n",
       "      <th>zinc</th>\n",
       "    </tr>\n",
       "  </thead>\n",
       "  <tbody>\n",
       "    <tr>\n",
       "      <td>count</td>\n",
       "      <td>10.000000</td>\n",
       "      <td>10.000000</td>\n",
       "      <td>10.000000</td>\n",
       "      <td>10.000000</td>\n",
       "      <td>10.000000</td>\n",
       "      <td>10.000000</td>\n",
       "      <td>10.000000</td>\n",
       "      <td>10.000000</td>\n",
       "      <td>10.000000</td>\n",
       "      <td>10.000000</td>\n",
       "      <td>10.000000</td>\n",
       "      <td>10.000000</td>\n",
       "      <td>10.000000</td>\n",
       "      <td>10.000000</td>\n",
       "      <td>10.000000</td>\n",
       "      <td>10.000000</td>\n",
       "      <td>10.000000</td>\n",
       "      <td>10.000000</td>\n",
       "    </tr>\n",
       "    <tr>\n",
       "      <td>mean</td>\n",
       "      <td>0.158824</td>\n",
       "      <td>0.195612</td>\n",
       "      <td>0.442857</td>\n",
       "      <td>0.151429</td>\n",
       "      <td>0.148148</td>\n",
       "      <td>0.128696</td>\n",
       "      <td>0.248000</td>\n",
       "      <td>0.123841</td>\n",
       "      <td>0.131313</td>\n",
       "      <td>0.290000</td>\n",
       "      <td>0.135323</td>\n",
       "      <td>0.100000</td>\n",
       "      <td>0.232174</td>\n",
       "      <td>0.377358</td>\n",
       "      <td>0.326829</td>\n",
       "      <td>0.284848</td>\n",
       "      <td>0.835924</td>\n",
       "      <td>0.157798</td>\n",
       "    </tr>\n",
       "    <tr>\n",
       "      <td>std</td>\n",
       "      <td>0.315991</td>\n",
       "      <td>0.287944</td>\n",
       "      <td>0.437758</td>\n",
       "      <td>0.299587</td>\n",
       "      <td>0.303433</td>\n",
       "      <td>0.307049</td>\n",
       "      <td>0.405539</td>\n",
       "      <td>0.308424</td>\n",
       "      <td>0.307423</td>\n",
       "      <td>0.398469</td>\n",
       "      <td>0.306542</td>\n",
       "      <td>0.316228</td>\n",
       "      <td>0.337704</td>\n",
       "      <td>0.325113</td>\n",
       "      <td>0.392983</td>\n",
       "      <td>0.400413</td>\n",
       "      <td>0.296214</td>\n",
       "      <td>0.300265</td>\n",
       "    </tr>\n",
       "    <tr>\n",
       "      <td>min</td>\n",
       "      <td>0.000000</td>\n",
       "      <td>0.000000</td>\n",
       "      <td>0.000000</td>\n",
       "      <td>0.000000</td>\n",
       "      <td>0.000000</td>\n",
       "      <td>0.000000</td>\n",
       "      <td>0.000000</td>\n",
       "      <td>0.000000</td>\n",
       "      <td>0.000000</td>\n",
       "      <td>0.000000</td>\n",
       "      <td>0.000000</td>\n",
       "      <td>0.000000</td>\n",
       "      <td>0.000000</td>\n",
       "      <td>0.000000</td>\n",
       "      <td>0.000000</td>\n",
       "      <td>0.000000</td>\n",
       "      <td>0.000000</td>\n",
       "      <td>0.000000</td>\n",
       "    </tr>\n",
       "    <tr>\n",
       "      <td>25%</td>\n",
       "      <td>0.009804</td>\n",
       "      <td>0.077403</td>\n",
       "      <td>0.153061</td>\n",
       "      <td>0.046429</td>\n",
       "      <td>0.023148</td>\n",
       "      <td>0.017391</td>\n",
       "      <td>0.000000</td>\n",
       "      <td>0.016556</td>\n",
       "      <td>0.010101</td>\n",
       "      <td>0.000000</td>\n",
       "      <td>0.019900</td>\n",
       "      <td>0.000000</td>\n",
       "      <td>0.008696</td>\n",
       "      <td>0.127358</td>\n",
       "      <td>0.015244</td>\n",
       "      <td>0.000000</td>\n",
       "      <td>0.895690</td>\n",
       "      <td>0.022936</td>\n",
       "    </tr>\n",
       "    <tr>\n",
       "      <td>50%</td>\n",
       "      <td>0.019608</td>\n",
       "      <td>0.126212</td>\n",
       "      <td>0.170918</td>\n",
       "      <td>0.072857</td>\n",
       "      <td>0.048148</td>\n",
       "      <td>0.021739</td>\n",
       "      <td>0.000000</td>\n",
       "      <td>0.018212</td>\n",
       "      <td>0.020202</td>\n",
       "      <td>0.100000</td>\n",
       "      <td>0.039801</td>\n",
       "      <td>0.000000</td>\n",
       "      <td>0.104348</td>\n",
       "      <td>0.295991</td>\n",
       "      <td>0.126016</td>\n",
       "      <td>0.121212</td>\n",
       "      <td>0.910825</td>\n",
       "      <td>0.052752</td>\n",
       "    </tr>\n",
       "    <tr>\n",
       "      <td>75%</td>\n",
       "      <td>0.075980</td>\n",
       "      <td>0.159655</td>\n",
       "      <td>0.906888</td>\n",
       "      <td>0.080000</td>\n",
       "      <td>0.082407</td>\n",
       "      <td>0.060870</td>\n",
       "      <td>0.555000</td>\n",
       "      <td>0.049669</td>\n",
       "      <td>0.074747</td>\n",
       "      <td>0.375000</td>\n",
       "      <td>0.044776</td>\n",
       "      <td>0.000000</td>\n",
       "      <td>0.256522</td>\n",
       "      <td>0.620873</td>\n",
       "      <td>0.691057</td>\n",
       "      <td>0.371212</td>\n",
       "      <td>0.948813</td>\n",
       "      <td>0.128440</td>\n",
       "    </tr>\n",
       "    <tr>\n",
       "      <td>max</td>\n",
       "      <td>1.000000</td>\n",
       "      <td>1.000000</td>\n",
       "      <td>1.000000</td>\n",
       "      <td>1.000000</td>\n",
       "      <td>1.000000</td>\n",
       "      <td>1.000000</td>\n",
       "      <td>1.000000</td>\n",
       "      <td>1.000000</td>\n",
       "      <td>1.000000</td>\n",
       "      <td>1.000000</td>\n",
       "      <td>1.000000</td>\n",
       "      <td>1.000000</td>\n",
       "      <td>1.000000</td>\n",
       "      <td>1.000000</td>\n",
       "      <td>1.000000</td>\n",
       "      <td>1.000000</td>\n",
       "      <td>1.000000</td>\n",
       "      <td>1.000000</td>\n",
       "    </tr>\n",
       "  </tbody>\n",
       "</table>\n",
       "</div>"
      ],
      "text/plain": [
       "         calcium  carbohydrt     copper  energ_kcal       iron  magnesium  \\\n",
       "count  10.000000   10.000000  10.000000   10.000000  10.000000  10.000000   \n",
       "mean    0.158824    0.195612   0.442857    0.151429   0.148148   0.128696   \n",
       "std     0.315991    0.287944   0.437758    0.299587   0.303433   0.307049   \n",
       "min     0.000000    0.000000   0.000000    0.000000   0.000000   0.000000   \n",
       "25%     0.009804    0.077403   0.153061    0.046429   0.023148   0.017391   \n",
       "50%     0.019608    0.126212   0.170918    0.072857   0.048148   0.021739   \n",
       "75%     0.075980    0.159655   0.906888    0.080000   0.082407   0.060870   \n",
       "max     1.000000    1.000000   1.000000    1.000000   1.000000   1.000000   \n",
       "\n",
       "       manganese  phosphorus    protein   selenium     sodium    vit_b12  \\\n",
       "count  10.000000   10.000000  10.000000  10.000000  10.000000  10.000000   \n",
       "mean    0.248000    0.123841   0.131313   0.290000   0.135323   0.100000   \n",
       "std     0.405539    0.308424   0.307423   0.398469   0.306542   0.316228   \n",
       "min     0.000000    0.000000   0.000000   0.000000   0.000000   0.000000   \n",
       "25%     0.000000    0.016556   0.010101   0.000000   0.019900   0.000000   \n",
       "50%     0.000000    0.018212   0.020202   0.100000   0.039801   0.000000   \n",
       "75%     0.555000    0.049669   0.074747   0.375000   0.044776   0.000000   \n",
       "max     1.000000    1.000000   1.000000   1.000000   1.000000   1.000000   \n",
       "\n",
       "          vit_b6      vit_c      vit_e      vit_k      water       zinc  \n",
       "count  10.000000  10.000000  10.000000  10.000000  10.000000  10.000000  \n",
       "mean    0.232174   0.377358   0.326829   0.284848   0.835924   0.157798  \n",
       "std     0.337704   0.325113   0.392983   0.400413   0.296214   0.300265  \n",
       "min     0.000000   0.000000   0.000000   0.000000   0.000000   0.000000  \n",
       "25%     0.008696   0.127358   0.015244   0.000000   0.895690   0.022936  \n",
       "50%     0.104348   0.295991   0.126016   0.121212   0.910825   0.052752  \n",
       "75%     0.256522   0.620873   0.691057   0.371212   0.948813   0.128440  \n",
       "max     1.000000   1.000000   1.000000   1.000000   1.000000   1.000000  "
      ]
     },
     "execution_count": 27,
     "metadata": {},
     "output_type": "execute_result"
    }
   ],
   "source": [
    "peach.describe()"
   ]
  },
  {
   "cell_type": "markdown",
   "metadata": {},
   "source": [
    "#### Finding relation between iron and different elements using Scatter Plots"
   ]
  },
  {
   "cell_type": "code",
   "execution_count": 28,
   "metadata": {},
   "outputs": [
    {
     "data": {
      "image/png": "[encoded data removed]",
      "text/plain": [
       "<Figure size 224x216 with 1 Axes>"
      ]
     },
     "metadata": {
      "needs_background": "light"
     },
     "output_type": "display_data"
    }
   ],
   "source": [
    "g = sns.FacetGrid(bean)\n",
    "g.map(plt.scatter, \"iron\", \"protein\", alpha=.7)\n",
    "g.add_legend();"
   ]
  },
  {
   "cell_type": "code",
   "execution_count": 29,
   "metadata": {},
   "outputs": [
    {
     "data": {
      "image/png": "[encoded data removed]",
      "text/plain": [
       "<Figure size 224x216 with 1 Axes>"
      ]
     },
     "metadata": {
      "needs_background": "light"
     },
     "output_type": "display_data"
    }
   ],
   "source": [
    "g = sns.FacetGrid(bean)\n",
    "g.map(plt.scatter, \"iron\", \"vit_e\", alpha=.7)\n",
    "g.add_legend();"
   ]
  },
  {
   "cell_type": "code",
   "execution_count": 30,
   "metadata": {
    "scrolled": true
   },
   "outputs": [
    {
     "data": {
      "image/png": "[encoded data removed]",
      "text/plain": [
       "<Figure size 224x216 with 1 Axes>"
      ]
     },
     "metadata": {
      "needs_background": "light"
     },
     "output_type": "display_data"
    }
   ],
   "source": [
    "g = sns.FacetGrid(bean)\n",
    "g.map(plt.scatter, \"iron\", \"vit_c\", alpha=.7)\n",
    "g.add_legend();"
   ]
  },
  {
   "cell_type": "code",
   "execution_count": 31,
   "metadata": {
    "scrolled": true
   },
   "outputs": [
    {
     "data": {
      "image/png": "[encoded data removed]",
      "text/plain": [
       "<Figure size 224x216 with 1 Axes>"
      ]
     },
     "metadata": {
      "needs_background": "light"
     },
     "output_type": "display_data"
    }
   ],
   "source": [
    "g = sns.FacetGrid(bean)\n",
    "g.map(plt.scatter, \"iron\", \"water\", alpha=.7)\n",
    "g.add_legend();"
   ]
  },
  {
   "cell_type": "code",
   "execution_count": 32,
   "metadata": {},
   "outputs": [
    {
     "data": {
      "text/plain": [
       "Text(0.5, 1, 'Relation plot of Iron with Protein, Vitamin E, Vitamin C and Water')"
      ]
     },
     "execution_count": 32,
     "metadata": {},
     "output_type": "execute_result"
    },
    {
     "data": {
      "image/png": "[encoded data removed]",
      "text/plain": [
       "<Figure size 432x288 with 4 Axes>"
      ]
     },
     "metadata": {
      "needs_background": "light"
     },
     "output_type": "display_data"
    }
   ],
   "source": [
    "fig, axs = plt.subplots(ncols=4)\n",
    "fig.tight_layout()\n",
    "plt.subplots_adjust(left=None, bottom=None, right=None, top=None, wspace=0.8, hspace=None)\n",
    "sns.regplot(x='iron', y='protein', data=peach, ax=axs[0])\n",
    "sns.regplot(x='iron', y='vit_e', data=peach, ax=axs[1])\n",
    "sns.regplot(x='iron',y='vit_c', data=peach, ax=axs[2])\n",
    "sns.regplot(x='iron',y='water', data=peach, ax=axs[3])\n",
    "plt.title(\"Relation plot of Iron with Protein, Vitamin E, Vitamin C and Water\")"
   ]
  },
  {
   "cell_type": "markdown",
   "metadata": {},
   "source": [
    "<b>Plot observations:</b>\n",
    "Direct proportionality of Iron can be seen with Protein and Vitamin E. It is slightly opposite in case of Vitamin C and completely opposite in case of Water."
   ]
  },
  {
   "cell_type": "markdown",
   "metadata": {},
   "source": [
    "<b> Inverse Proportionality of Carbohydrate and Water:</b>\n",
    "Carbohydrates and Water are oppositely proportional to each other. Water content is clearly inversely proportional to iron."
   ]
  },
  {
   "cell_type": "code",
   "execution_count": 33,
   "metadata": {},
   "outputs": [
    {
     "data": {
      "text/plain": [
       "<matplotlib.axes._subplots.AxesSubplot at 0x1917fddcfd0>"
      ]
     },
     "execution_count": 33,
     "metadata": {},
     "output_type": "execute_result"
    },
    {
     "data": {
      "image/png": "[encoded data removed]",
      "text/plain": [
       "<Figure size 432x288 with 1 Axes>"
      ]
     },
     "metadata": {
      "needs_background": "light"
     },
     "output_type": "display_data"
    }
   ],
   "source": [
    "fig, axs = plt.subplots()\n",
    "fig.tight_layout()\n",
    "# plt.subplots_adjust(left=None, bottom=None, right=None, top=None, wspace=0.8, hspace=None)\n",
    "sns.regplot(x='carbohydrt', y='water', data=peach)"
   ]
  },
  {
   "cell_type": "markdown",
   "metadata": {},
   "source": [
    "## Finding which fruit has maximum given element"
   ]
  },
  {
   "cell_type": "code",
   "execution_count": 34,
   "metadata": {},
   "outputs": [
    {
     "data": {
      "text/html": [
       "<div>\n",
       "<style scoped>\n",
       "    .dataframe tbody tr th:only-of-type {\n",
       "        vertical-align: middle;\n",
       "    }\n",
       "\n",
       "    .dataframe tbody tr th {\n",
       "        vertical-align: top;\n",
       "    }\n",
       "\n",
       "    .dataframe thead th {\n",
       "        text-align: right;\n",
       "    }\n",
       "</style>\n",
       "<table border=\"1\" class=\"dataframe\">\n",
       "  <thead>\n",
       "    <tr style=\"text-align: right;\">\n",
       "      <th></th>\n",
       "      <th>fruit_name</th>\n",
       "      <th>calcium</th>\n",
       "      <th>carbohydrt</th>\n",
       "      <th>copper</th>\n",
       "      <th>energ_kcal</th>\n",
       "      <th>iron</th>\n",
       "      <th>magnesium</th>\n",
       "      <th>manganese</th>\n",
       "      <th>phosphorus</th>\n",
       "      <th>protein</th>\n",
       "      <th>selenium</th>\n",
       "      <th>sodium</th>\n",
       "      <th>vit_b12</th>\n",
       "      <th>vit_b6</th>\n",
       "      <th>vit_c</th>\n",
       "      <th>vit_e</th>\n",
       "      <th>vit_k</th>\n",
       "      <th>water</th>\n",
       "      <th>zinc</th>\n",
       "    </tr>\n",
       "  </thead>\n",
       "  <tbody>\n",
       "    <tr>\n",
       "      <td>0</td>\n",
       "      <td>hazelnut</td>\n",
       "      <td>0.000000</td>\n",
       "      <td>0.000000</td>\n",
       "      <td>0.000000</td>\n",
       "      <td>1.000000</td>\n",
       "      <td>0.000000</td>\n",
       "      <td>0.000000</td>\n",
       "      <td>0.000000</td>\n",
       "      <td>0.000000</td>\n",
       "      <td>0.000000</td>\n",
       "      <td>0.000000</td>\n",
       "      <td>0.000000</td>\n",
       "      <td>0.000</td>\n",
       "      <td>0.000000</td>\n",
       "      <td>0.000000</td>\n",
       "      <td>1.000000</td>\n",
       "      <td>0.000000</td>\n",
       "      <td>0.000000</td>\n",
       "      <td>0.0000</td>\n",
       "    </tr>\n",
       "    <tr>\n",
       "      <td>1</td>\n",
       "      <td>hazelnut</td>\n",
       "      <td>0.043011</td>\n",
       "      <td>0.849786</td>\n",
       "      <td>0.000000</td>\n",
       "      <td>0.434091</td>\n",
       "      <td>0.035212</td>\n",
       "      <td>0.162791</td>\n",
       "      <td>0.000000</td>\n",
       "      <td>0.643498</td>\n",
       "      <td>0.393976</td>\n",
       "      <td>0.000000</td>\n",
       "      <td>0.216581</td>\n",
       "      <td>0.000</td>\n",
       "      <td>0.049244</td>\n",
       "      <td>0.001669</td>\n",
       "      <td>0.009534</td>\n",
       "      <td>0.000000</td>\n",
       "      <td>0.075378</td>\n",
       "      <td>0.1720</td>\n",
       "    </tr>\n",
       "    <tr>\n",
       "      <td>2</td>\n",
       "      <td>hazelnut</td>\n",
       "      <td>0.072581</td>\n",
       "      <td>0.760367</td>\n",
       "      <td>0.268000</td>\n",
       "      <td>0.610227</td>\n",
       "      <td>0.050074</td>\n",
       "      <td>0.106312</td>\n",
       "      <td>0.040740</td>\n",
       "      <td>0.340807</td>\n",
       "      <td>0.217269</td>\n",
       "      <td>0.150000</td>\n",
       "      <td>0.026350</td>\n",
       "      <td>0.054</td>\n",
       "      <td>0.031795</td>\n",
       "      <td>0.000000</td>\n",
       "      <td>0.105085</td>\n",
       "      <td>0.031561</td>\n",
       "      <td>0.010797</td>\n",
       "      <td>0.0848</td>\n",
       "    </tr>\n",
       "    <tr>\n",
       "      <td>3</td>\n",
       "      <td>hazelnut</td>\n",
       "      <td>0.296371</td>\n",
       "      <td>0.281101</td>\n",
       "      <td>0.685714</td>\n",
       "      <td>0.709091</td>\n",
       "      <td>0.035669</td>\n",
       "      <td>0.390365</td>\n",
       "      <td>0.356707</td>\n",
       "      <td>0.921525</td>\n",
       "      <td>0.597992</td>\n",
       "      <td>0.000000</td>\n",
       "      <td>0.001285</td>\n",
       "      <td>0.000</td>\n",
       "      <td>0.213261</td>\n",
       "      <td>0.000000</td>\n",
       "      <td>0.000000</td>\n",
       "      <td>0.000000</td>\n",
       "      <td>0.059738</td>\n",
       "      <td>0.1648</td>\n",
       "    </tr>\n",
       "    <tr>\n",
       "      <td>4</td>\n",
       "      <td>hazelnut</td>\n",
       "      <td>0.076613</td>\n",
       "      <td>0.204281</td>\n",
       "      <td>0.985714</td>\n",
       "      <td>0.709091</td>\n",
       "      <td>0.053733</td>\n",
       "      <td>0.270764</td>\n",
       "      <td>0.289824</td>\n",
       "      <td>0.650224</td>\n",
       "      <td>0.600402</td>\n",
       "      <td>0.100000</td>\n",
       "      <td>0.000000</td>\n",
       "      <td>0.000</td>\n",
       "      <td>0.218302</td>\n",
       "      <td>0.003755</td>\n",
       "      <td>0.318432</td>\n",
       "      <td>0.235880</td>\n",
       "      <td>0.053582</td>\n",
       "      <td>0.1960</td>\n",
       "    </tr>\n",
       "    <tr>\n",
       "      <td>...</td>\n",
       "      <td>...</td>\n",
       "      <td>...</td>\n",
       "      <td>...</td>\n",
       "      <td>...</td>\n",
       "      <td>...</td>\n",
       "      <td>...</td>\n",
       "      <td>...</td>\n",
       "      <td>...</td>\n",
       "      <td>...</td>\n",
       "      <td>...</td>\n",
       "      <td>...</td>\n",
       "      <td>...</td>\n",
       "      <td>...</td>\n",
       "      <td>...</td>\n",
       "      <td>...</td>\n",
       "      <td>...</td>\n",
       "      <td>...</td>\n",
       "      <td>...</td>\n",
       "      <td>...</td>\n",
       "    </tr>\n",
       "    <tr>\n",
       "      <td>100</td>\n",
       "      <td>melon</td>\n",
       "      <td>0.006720</td>\n",
       "      <td>0.097125</td>\n",
       "      <td>0.034286</td>\n",
       "      <td>0.032955</td>\n",
       "      <td>0.003315</td>\n",
       "      <td>0.023256</td>\n",
       "      <td>0.001877</td>\n",
       "      <td>0.026906</td>\n",
       "      <td>0.033735</td>\n",
       "      <td>0.000000</td>\n",
       "      <td>0.019923</td>\n",
       "      <td>0.000</td>\n",
       "      <td>0.041101</td>\n",
       "      <td>0.003696</td>\n",
       "      <td>0.000000</td>\n",
       "      <td>0.000000</td>\n",
       "      <td>0.910797</td>\n",
       "      <td>0.0136</td>\n",
       "    </tr>\n",
       "    <tr>\n",
       "      <td>101</td>\n",
       "      <td>melon</td>\n",
       "      <td>0.008737</td>\n",
       "      <td>0.049664</td>\n",
       "      <td>0.020000</td>\n",
       "      <td>0.019318</td>\n",
       "      <td>0.002401</td>\n",
       "      <td>0.016611</td>\n",
       "      <td>0.001690</td>\n",
       "      <td>0.020179</td>\n",
       "      <td>0.033735</td>\n",
       "      <td>0.016667</td>\n",
       "      <td>0.007069</td>\n",
       "      <td>0.000</td>\n",
       "      <td>0.019387</td>\n",
       "      <td>0.004828</td>\n",
       "      <td>0.000000</td>\n",
       "      <td>0.081395</td>\n",
       "      <td>0.955197</td>\n",
       "      <td>0.0112</td>\n",
       "    </tr>\n",
       "    <tr>\n",
       "      <td>102</td>\n",
       "      <td>melon</td>\n",
       "      <td>0.004704</td>\n",
       "      <td>0.092355</td>\n",
       "      <td>0.024000</td>\n",
       "      <td>0.029545</td>\n",
       "      <td>0.002744</td>\n",
       "      <td>0.016611</td>\n",
       "      <td>0.001784</td>\n",
       "      <td>0.024664</td>\n",
       "      <td>0.024498</td>\n",
       "      <td>0.016667</td>\n",
       "      <td>0.000643</td>\n",
       "      <td>0.000</td>\n",
       "      <td>0.017449</td>\n",
       "      <td>0.004828</td>\n",
       "      <td>0.001059</td>\n",
       "      <td>0.001661</td>\n",
       "      <td>0.922805</td>\n",
       "      <td>0.0080</td>\n",
       "    </tr>\n",
       "    <tr>\n",
       "      <td>103</td>\n",
       "      <td>melon</td>\n",
       "      <td>0.008737</td>\n",
       "      <td>0.092477</td>\n",
       "      <td>0.011429</td>\n",
       "      <td>0.045455</td>\n",
       "      <td>0.012919</td>\n",
       "      <td>0.066445</td>\n",
       "      <td>0.001830</td>\n",
       "      <td>0.082960</td>\n",
       "      <td>0.071486</td>\n",
       "      <td>0.000000</td>\n",
       "      <td>0.001285</td>\n",
       "      <td>0.000</td>\n",
       "      <td>0.024428</td>\n",
       "      <td>0.003159</td>\n",
       "      <td>0.000000</td>\n",
       "      <td>0.000000</td>\n",
       "      <td>0.897780</td>\n",
       "      <td>0.0384</td>\n",
       "    </tr>\n",
       "    <tr>\n",
       "      <td>104</td>\n",
       "      <td>melon</td>\n",
       "      <td>0.012097</td>\n",
       "      <td>0.029969</td>\n",
       "      <td>0.012571</td>\n",
       "      <td>0.007955</td>\n",
       "      <td>0.004344</td>\n",
       "      <td>0.016611</td>\n",
       "      <td>0.002628</td>\n",
       "      <td>0.038117</td>\n",
       "      <td>0.016064</td>\n",
       "      <td>0.008333</td>\n",
       "      <td>0.220437</td>\n",
       "      <td>0.000</td>\n",
       "      <td>0.012408</td>\n",
       "      <td>0.006259</td>\n",
       "      <td>0.001695</td>\n",
       "      <td>0.046512</td>\n",
       "      <td>0.969324</td>\n",
       "      <td>0.0472</td>\n",
       "    </tr>\n",
       "  </tbody>\n",
       "</table>\n",
       "<p>105 rows × 19 columns</p>\n",
       "</div>"
      ],
      "text/plain": [
       "    fruit_name   calcium  carbohydrt    copper  energ_kcal      iron  \\\n",
       "0     hazelnut  0.000000    0.000000  0.000000    1.000000  0.000000   \n",
       "1     hazelnut  0.043011    0.849786  0.000000    0.434091  0.035212   \n",
       "2     hazelnut  0.072581    0.760367  0.268000    0.610227  0.050074   \n",
       "3     hazelnut  0.296371    0.281101  0.685714    0.709091  0.035669   \n",
       "4     hazelnut  0.076613    0.204281  0.985714    0.709091  0.053733   \n",
       "..         ...       ...         ...       ...         ...       ...   \n",
       "100      melon  0.006720    0.097125  0.034286    0.032955  0.003315   \n",
       "101      melon  0.008737    0.049664  0.020000    0.019318  0.002401   \n",
       "102      melon  0.004704    0.092355  0.024000    0.029545  0.002744   \n",
       "103      melon  0.008737    0.092477  0.011429    0.045455  0.012919   \n",
       "104      melon  0.012097    0.029969  0.012571    0.007955  0.004344   \n",
       "\n",
       "     magnesium  manganese  phosphorus   protein  selenium    sodium  vit_b12  \\\n",
       "0     0.000000   0.000000    0.000000  0.000000  0.000000  0.000000    0.000   \n",
       "1     0.162791   0.000000    0.643498  0.393976  0.000000  0.216581    0.000   \n",
       "2     0.106312   0.040740    0.340807  0.217269  0.150000  0.026350    0.054   \n",
       "3     0.390365   0.356707    0.921525  0.597992  0.000000  0.001285    0.000   \n",
       "4     0.270764   0.289824    0.650224  0.600402  0.100000  0.000000    0.000   \n",
       "..         ...        ...         ...       ...       ...       ...      ...   \n",
       "100   0.023256   0.001877    0.026906  0.033735  0.000000  0.019923    0.000   \n",
       "101   0.016611   0.001690    0.020179  0.033735  0.016667  0.007069    0.000   \n",
       "102   0.016611   0.001784    0.024664  0.024498  0.016667  0.000643    0.000   \n",
       "103   0.066445   0.001830    0.082960  0.071486  0.000000  0.001285    0.000   \n",
       "104   0.016611   0.002628    0.038117  0.016064  0.008333  0.220437    0.000   \n",
       "\n",
       "       vit_b6     vit_c     vit_e     vit_k     water    zinc  \n",
       "0    0.000000  0.000000  1.000000  0.000000  0.000000  0.0000  \n",
       "1    0.049244  0.001669  0.009534  0.000000  0.075378  0.1720  \n",
       "2    0.031795  0.000000  0.105085  0.031561  0.010797  0.0848  \n",
       "3    0.213261  0.000000  0.000000  0.000000  0.059738  0.1648  \n",
       "4    0.218302  0.003755  0.318432  0.235880  0.053582  0.1960  \n",
       "..        ...       ...       ...       ...       ...     ...  \n",
       "100  0.041101  0.003696  0.000000  0.000000  0.910797  0.0136  \n",
       "101  0.019387  0.004828  0.000000  0.081395  0.955197  0.0112  \n",
       "102  0.017449  0.004828  0.001059  0.001661  0.922805  0.0080  \n",
       "103  0.024428  0.003159  0.000000  0.000000  0.897780  0.0384  \n",
       "104  0.012408  0.006259  0.001695  0.046512  0.969324  0.0472  \n",
       "\n",
       "[105 rows x 19 columns]"
      ]
     },
     "execution_count": 34,
     "metadata": {},
     "output_type": "execute_result"
    }
   ],
   "source": [
    "# From overall data stored previously in csv_data dataframe is considered and pre processed again.\n",
    "csv_data = csv_data[[\"fruit_name\",\"calcium\",\"carbohydrt\",\"copper\",\"energ_kcal\",\"iron\",\"magnesium\",\"manganese\",\"phosphorus\",\\\n",
    "                \"protein\",\"selenium\",\"sodium\",\"vit_b12\",\"vit_b6\",\"vit_c\",\"vit_e\",\"vit_k\",\"water\",\"zinc\"]]\n",
    "\n",
    "for k in csv_data:\n",
    "    if k not in ['fruit_name','s']:\n",
    "        x = csv_data[k].values.astype(float) #returns a numpy array\n",
    "        x = x.reshape(-1, 1)\n",
    "        min_max_scaler = preprocessing.MinMaxScaler()\n",
    "        x_scaled = min_max_scaler.fit_transform(x)\n",
    "        csv_data[k] = pd.DataFrame(x_scaled)\n",
    "csv_data"
   ]
  },
  {
   "cell_type": "markdown",
   "metadata": {},
   "source": [
    "From the overall data, we can see that Olives have maximum sodium element."
   ]
  },
  {
   "cell_type": "code",
   "execution_count": 35,
   "metadata": {},
   "outputs": [
    {
     "data": {
      "text/plain": [
       "[Text(0, 0, 'hazelnut'),\n",
       " Text(0, 0, 'cherry'),\n",
       " Text(0, 0, 'bean'),\n",
       " Text(0, 0, 'raspberry'),\n",
       " Text(0, 0, 'chickpea'),\n",
       " Text(0, 0, 'litchi'),\n",
       " Text(0, 0, 'peach'),\n",
       " Text(0, 0, 'butternut'),\n",
       " Text(0, 0, 'olive'),\n",
       " Text(0, 0, 'pear'),\n",
       " Text(0, 0, 'strawberry'),\n",
       " Text(0, 0, 'melon')]"
      ]
     },
     "execution_count": 35,
     "metadata": {},
     "output_type": "execute_result"
    },
    {
     "data": {
      "image/png": "[encoded data removed]",
      "text/plain": [
       "<Figure size 432x288 with 1 Axes>"
      ]
     },
     "metadata": {},
     "output_type": "display_data"
    }
   ],
   "source": [
    "sns.set(style=\"whitegrid\")\n",
    "ax = sns.barplot(x=\"fruit_name\", y=\"sodium\", data=csv_data)\n",
    "ax.set_xticklabels(ax.get_xticklabels(), rotation=45)"
   ]
  },
  {
   "cell_type": "markdown",
   "metadata": {},
   "source": [
    "From the overall data, we can see that Pear have maximum calcium."
   ]
  },
  {
   "cell_type": "code",
   "execution_count": 36,
   "metadata": {},
   "outputs": [
    {
     "data": {
      "text/plain": [
       "[Text(0, 0, 'hazelnut'),\n",
       " Text(0, 0, 'cherry'),\n",
       " Text(0, 0, 'bean'),\n",
       " Text(0, 0, 'raspberry'),\n",
       " Text(0, 0, 'chickpea'),\n",
       " Text(0, 0, 'litchi'),\n",
       " Text(0, 0, 'peach'),\n",
       " Text(0, 0, 'butternut'),\n",
       " Text(0, 0, 'olive'),\n",
       " Text(0, 0, 'pear'),\n",
       " Text(0, 0, 'strawberry'),\n",
       " Text(0, 0, 'melon')]"
      ]
     },
     "execution_count": 36,
     "metadata": {},
     "output_type": "execute_result"
    },
    {
     "data": {
      "image/png": "[encoded data removed]",
      "text/plain": [
       "<Figure size 432x288 with 1 Axes>"
      ]
     },
     "metadata": {},
     "output_type": "display_data"
    }
   ],
   "source": [
    "sns.set(style=\"whitegrid\")\n",
    "ax = sns.barplot(x=\"fruit_name\", y=\"calcium\", data=csv_data)\n",
    "ax.set_xticklabels(ax.get_xticklabels(), rotation=45)"
   ]
  },
  {
   "cell_type": "markdown",
   "metadata": {},
   "source": [
    "From the overall data, Pear has maximum iron content. Iron is comparitively very less in other fruits in the given data."
   ]
  },
  {
   "cell_type": "code",
   "execution_count": 37,
   "metadata": {},
   "outputs": [
    {
     "data": {
      "text/plain": [
       "[Text(0, 0, 'hazelnut'),\n",
       " Text(0, 0, 'cherry'),\n",
       " Text(0, 0, 'bean'),\n",
       " Text(0, 0, 'raspberry'),\n",
       " Text(0, 0, 'chickpea'),\n",
       " Text(0, 0, 'litchi'),\n",
       " Text(0, 0, 'peach'),\n",
       " Text(0, 0, 'butternut'),\n",
       " Text(0, 0, 'olive'),\n",
       " Text(0, 0, 'pear'),\n",
       " Text(0, 0, 'strawberry'),\n",
       " Text(0, 0, 'melon')]"
      ]
     },
     "execution_count": 37,
     "metadata": {},
     "output_type": "execute_result"
    },
    {
     "data": {
      "image/png": "[encoded data removed]",
      "text/plain": [
       "<Figure size 432x288 with 1 Axes>"
      ]
     },
     "metadata": {},
     "output_type": "display_data"
    }
   ],
   "source": [
    "sns.set(style=\"whitegrid\")\n",
    "ax = sns.barplot(x=\"fruit_name\", y=\"iron\", data=csv_data)\n",
    "ax.set_xticklabels(ax.get_xticklabels(), rotation=45)"
   ]
  },
  {
   "cell_type": "markdown",
   "metadata": {},
   "source": [
    "From the considered fruits, Strawberry has maximum content of vitamin B12. This element is almost negligible in other given fruits."
   ]
  },
  {
   "cell_type": "code",
   "execution_count": 38,
   "metadata": {},
   "outputs": [
    {
     "data": {
      "text/plain": [
       "[Text(0, 0, 'hazelnut'),\n",
       " Text(0, 0, 'cherry'),\n",
       " Text(0, 0, 'bean'),\n",
       " Text(0, 0, 'raspberry'),\n",
       " Text(0, 0, 'chickpea'),\n",
       " Text(0, 0, 'litchi'),\n",
       " Text(0, 0, 'peach'),\n",
       " Text(0, 0, 'butternut'),\n",
       " Text(0, 0, 'olive'),\n",
       " Text(0, 0, 'pear'),\n",
       " Text(0, 0, 'strawberry'),\n",
       " Text(0, 0, 'melon')]"
      ]
     },
     "execution_count": 38,
     "metadata": {},
     "output_type": "execute_result"
    },
    {
     "data": {
      "image/png": "[encoded data removed]",
      "text/plain": [
       "<Figure size 432x288 with 1 Axes>"
      ]
     },
     "metadata": {},
     "output_type": "display_data"
    }
   ],
   "source": [
    "sns.set(style=\"whitegrid\")\n",
    "ax = sns.barplot(x=\"fruit_name\", y=\"vit_b12\", data=csv_data)\n",
    "ax.set_xticklabels(ax.get_xticklabels(), rotation=45)"
   ]
  },
  {
   "cell_type": "markdown",
   "metadata": {},
   "source": [
    "From the considered fruits, Pear has maximum content of Calcium."
   ]
  },
  {
   "cell_type": "markdown",
   "metadata": {},
   "source": [
    "As the given data varies over the amount of fruits, the maximum number of fruits given in dataset is as follows:"
   ]
  },
  {
   "cell_type": "code",
   "execution_count": 39,
   "metadata": {},
   "outputs": [
    {
     "data": {
      "text/plain": [
       "[Text(0, 0, 'hazelnut'),\n",
       " Text(0, 0, 'cherry'),\n",
       " Text(0, 0, 'bean'),\n",
       " Text(0, 0, 'raspberry'),\n",
       " Text(0, 0, 'chickpea'),\n",
       " Text(0, 0, 'litchi'),\n",
       " Text(0, 0, 'peach'),\n",
       " Text(0, 0, 'butternut'),\n",
       " Text(0, 0, 'olive'),\n",
       " Text(0, 0, 'pear'),\n",
       " Text(0, 0, 'strawberry'),\n",
       " Text(0, 0, 'melon')]"
      ]
     },
     "execution_count": 39,
     "metadata": {},
     "output_type": "execute_result"
    },
    {
     "data": {
      "image/png": "[encoded data removed]",
      "text/plain": [
       "<Figure size 720x360 with 1 Axes>"
      ]
     },
     "metadata": {},
     "output_type": "display_data"
    }
   ],
   "source": [
    "plt.figure(figsize=(10,5))\n",
    "chart = sns.countplot(\n",
    "    data=csv_data,\n",
    "    x='fruit_name',\n",
    "    palette='Set1'\n",
    ")\n",
    "chart.set_xticklabels(chart.get_xticklabels(), rotation=45)\n"
   ]
  },
  {
   "cell_type": "markdown",
   "metadata": {},
   "source": [
    "Litchi has minimum records and most of the fruits like Cherry, Bean, Peach etc have 10 records each meaning the element calculation can vary there."
   ]
  },
  {
   "cell_type": "markdown",
   "metadata": {},
   "source": [
    "### Conclusion"
   ]
  },
  {
   "cell_type": "markdown",
   "metadata": {},
   "source": [
    "In the analysis of different fruit elements, some things are particularily observed as given below:\n",
    "1. Water is inversely proportional with most of the elements.\n",
    "2. Pear has maximum Calcium and Iron elements in the provided data, similarily, sodium is maximum in olive, vitamin B12 in Strawberry.\n",
    "3. Vitamin B12 and Iron are very less in other given fruit type meals.\n",
    "\n",
    "Insights:\n",
    "As only limited fruits are considered, it is quite possible that there are other fruits having different values contain relative similarity with these fruits' elements. Each fruit has only 10 records given by the API so it is difficult to analyze much out of a single fruit value.\n",
    "\n",
    "Future Scope:\n",
    "A meal selection system can be implemented to check the Body Analysis of a human and accordingly suggest him foods that which elements he/she should take intake of. Future visualizations-\n",
    "1. To search - values of correlation in more than one fruit -> direct and indirect proportionality comparison between 2 elements in more than 2 fruits.\n",
    "2. Plotting fruit against an element with some aggregation like - maximum or average"
   ]
  },
  {
   "cell_type": "markdown",
   "metadata": {},
   "source": [
    "### References:"
   ]
  },
  {
   "cell_type": "markdown",
   "metadata": {},
   "source": [
    "1. https://pypi.org/project/pycorpora/\n",
    "2. https://rapidapi.com/kenpi04/api/food-calorie-data-search/endpoints\n",
    "3. https://stackoverflow.com/questions/39689352/plotting-bar-plot-in-seaborn-python-with-rotated-xlabels/39689464\n",
    "4. https://stackoverflow.com/questions/26414913/normalize-columns-of-pandas-data-frame/48651066"
   ]
  }
 ],
 "metadata": {
  "kernelspec": {
   "display_name": "Python 3",
   "language": "python",
   "name": "python3"
  },
  "language_info": {
   "codemirror_mode": {
    "name": "ipython",
    "version": 3
   },
   "file_extension": ".py",
   "mimetype": "text/x-python",
   "name": "python",
   "nbconvert_exporter": "python",
   "pygments_lexer": "ipython3",
   "version": "3.7.3"
  }
 },
 "nbformat": 4,
 "nbformat_minor": 2
}
